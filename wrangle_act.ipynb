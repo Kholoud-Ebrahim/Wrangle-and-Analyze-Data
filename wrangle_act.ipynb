{
 "cells": [
  {
   "cell_type": "code",
   "execution_count": 94,
   "metadata": {},
   "outputs": [],
   "source": [
    "#Import statements\n",
    "import json\n",
    "import matplotlib.pyplot as plt\n",
    "import numpy as np\n",
    "import os\n",
    "import pandas as pd\n",
    "import re\n",
    "import requests\n",
    "import seaborn as sns\n",
    "import tweepy\n",
    "\n",
    "from datetime import datetime\n",
    "from functools import reduce\n",
    "\n",
    "% matplotlib inline"
   ]
  },
  {
   "cell_type": "markdown",
   "metadata": {},
   "source": [
    "# Gather"
   ]
  },
  {
   "cell_type": "code",
   "execution_count": 95,
   "metadata": {},
   "outputs": [],
   "source": [
    "# Load the enhanced twitter archive file we were given\n",
    "twitter1 = pd.read_csv('twitter-archive-enhanced.csv')"
   ]
  },
  {
   "cell_type": "code",
   "execution_count": 96,
   "metadata": {},
   "outputs": [],
   "source": [
    "# Scrape the image predictions file from the Udacity website\n",
    "url = 'https://d17h27t6h515a5.cloudfront.net/topher/2017/August/599fd2ad_image-predictions/image-predictions.tsv' \n",
    "response = requests.get(url)\n",
    "with open(os.path.join('image_predictions.tsv'), mode = 'wb') as file:\n",
    "    file.write(response.content)"
   ]
  },
  {
   "cell_type": "code",
   "execution_count": 97,
   "metadata": {},
   "outputs": [],
   "source": [
    "# Load the image predictions file\n",
    "images = pd.read_csv('image_predictions.tsv', sep = '\\t')"
   ]
  },
  {
   "cell_type": "code",
   "execution_count": 98,
   "metadata": {},
   "outputs": [],
   "source": [
    "#Load the json twitter file\n",
    "twitter2= pd.read_csv(\"tweet_json.txt\")"
   ]
  },
  {
   "cell_type": "markdown",
   "metadata": {},
   "source": [
    "# assess"
   ]
  },
  {
   "cell_type": "code",
   "execution_count": 99,
   "metadata": {},
   "outputs": [
    {
     "data": {
      "text/html": [
       "<div>\n",
       "<style scoped>\n",
       "    .dataframe tbody tr th:only-of-type {\n",
       "        vertical-align: middle;\n",
       "    }\n",
       "\n",
       "    .dataframe tbody tr th {\n",
       "        vertical-align: top;\n",
       "    }\n",
       "\n",
       "    .dataframe thead th {\n",
       "        text-align: right;\n",
       "    }\n",
       "</style>\n",
       "<table border=\"1\" class=\"dataframe\">\n",
       "  <thead>\n",
       "    <tr style=\"text-align: right;\">\n",
       "      <th></th>\n",
       "      <th>tweet_id</th>\n",
       "      <th>in_reply_to_status_id</th>\n",
       "      <th>in_reply_to_user_id</th>\n",
       "      <th>timestamp</th>\n",
       "      <th>source</th>\n",
       "      <th>text</th>\n",
       "      <th>retweeted_status_id</th>\n",
       "      <th>retweeted_status_user_id</th>\n",
       "      <th>retweeted_status_timestamp</th>\n",
       "      <th>expanded_urls</th>\n",
       "      <th>rating_numerator</th>\n",
       "      <th>rating_denominator</th>\n",
       "      <th>name</th>\n",
       "      <th>doggo</th>\n",
       "      <th>floofer</th>\n",
       "      <th>pupper</th>\n",
       "      <th>puppo</th>\n",
       "    </tr>\n",
       "  </thead>\n",
       "  <tbody>\n",
       "    <tr>\n",
       "      <th>905</th>\n",
       "      <td>758099635764359168</td>\n",
       "      <td>NaN</td>\n",
       "      <td>NaN</td>\n",
       "      <td>2016-07-27 00:40:12 +0000</td>\n",
       "      <td>&lt;a href=\"http://vine.co\" rel=\"nofollow\"&gt;Vine -...</td>\n",
       "      <td>In case you haven't seen the most dramatic sne...</td>\n",
       "      <td>NaN</td>\n",
       "      <td>NaN</td>\n",
       "      <td>NaN</td>\n",
       "      <td>https://vine.co/v/hQJbaj1VpIz</td>\n",
       "      <td>13</td>\n",
       "      <td>10</td>\n",
       "      <td>None</td>\n",
       "      <td>None</td>\n",
       "      <td>None</td>\n",
       "      <td>None</td>\n",
       "      <td>None</td>\n",
       "    </tr>\n",
       "    <tr>\n",
       "      <th>988</th>\n",
       "      <td>748977405889503236</td>\n",
       "      <td>NaN</td>\n",
       "      <td>NaN</td>\n",
       "      <td>2016-07-01 20:31:43 +0000</td>\n",
       "      <td>&lt;a href=\"http://twitter.com/download/iphone\" r...</td>\n",
       "      <td>What jokester sent in a pic without a dog in i...</td>\n",
       "      <td>NaN</td>\n",
       "      <td>NaN</td>\n",
       "      <td>NaN</td>\n",
       "      <td>https://twitter.com/dog_rates/status/748977405...</td>\n",
       "      <td>10</td>\n",
       "      <td>10</td>\n",
       "      <td>not</td>\n",
       "      <td>None</td>\n",
       "      <td>None</td>\n",
       "      <td>None</td>\n",
       "      <td>None</td>\n",
       "    </tr>\n",
       "    <tr>\n",
       "      <th>756</th>\n",
       "      <td>778650543019483137</td>\n",
       "      <td>NaN</td>\n",
       "      <td>NaN</td>\n",
       "      <td>2016-09-21 17:42:10 +0000</td>\n",
       "      <td>&lt;a href=\"http://twitter.com/download/iphone\" r...</td>\n",
       "      <td>Meet Strider. He thinks he's a sorority girl. ...</td>\n",
       "      <td>NaN</td>\n",
       "      <td>NaN</td>\n",
       "      <td>NaN</td>\n",
       "      <td>https://twitter.com/dog_rates/status/778650543...</td>\n",
       "      <td>10</td>\n",
       "      <td>10</td>\n",
       "      <td>Strider</td>\n",
       "      <td>None</td>\n",
       "      <td>None</td>\n",
       "      <td>None</td>\n",
       "      <td>None</td>\n",
       "    </tr>\n",
       "    <tr>\n",
       "      <th>856</th>\n",
       "      <td>764259802650378240</td>\n",
       "      <td>NaN</td>\n",
       "      <td>NaN</td>\n",
       "      <td>2016-08-13 00:38:30 +0000</td>\n",
       "      <td>&lt;a href=\"http://twitter.com/download/iphone\" r...</td>\n",
       "      <td>This is Kota and her son Benedict. She doesn't...</td>\n",
       "      <td>NaN</td>\n",
       "      <td>NaN</td>\n",
       "      <td>NaN</td>\n",
       "      <td>https://twitter.com/dog_rates/status/764259802...</td>\n",
       "      <td>10</td>\n",
       "      <td>10</td>\n",
       "      <td>Kota</td>\n",
       "      <td>None</td>\n",
       "      <td>None</td>\n",
       "      <td>None</td>\n",
       "      <td>None</td>\n",
       "    </tr>\n",
       "    <tr>\n",
       "      <th>1932</th>\n",
       "      <td>674024893172875264</td>\n",
       "      <td>NaN</td>\n",
       "      <td>NaN</td>\n",
       "      <td>2015-12-08 00:37:11 +0000</td>\n",
       "      <td>&lt;a href=\"http://twitter.com/download/iphone\" r...</td>\n",
       "      <td>When you realize it doesn't matter how hard yo...</td>\n",
       "      <td>NaN</td>\n",
       "      <td>NaN</td>\n",
       "      <td>NaN</td>\n",
       "      <td>https://twitter.com/dog_rates/status/674024893...</td>\n",
       "      <td>10</td>\n",
       "      <td>10</td>\n",
       "      <td>None</td>\n",
       "      <td>None</td>\n",
       "      <td>None</td>\n",
       "      <td>None</td>\n",
       "      <td>None</td>\n",
       "    </tr>\n",
       "  </tbody>\n",
       "</table>\n",
       "</div>"
      ],
      "text/plain": [
       "                tweet_id  in_reply_to_status_id  in_reply_to_user_id  \\\n",
       "905   758099635764359168                    NaN                  NaN   \n",
       "988   748977405889503236                    NaN                  NaN   \n",
       "756   778650543019483137                    NaN                  NaN   \n",
       "856   764259802650378240                    NaN                  NaN   \n",
       "1932  674024893172875264                    NaN                  NaN   \n",
       "\n",
       "                      timestamp  \\\n",
       "905   2016-07-27 00:40:12 +0000   \n",
       "988   2016-07-01 20:31:43 +0000   \n",
       "756   2016-09-21 17:42:10 +0000   \n",
       "856   2016-08-13 00:38:30 +0000   \n",
       "1932  2015-12-08 00:37:11 +0000   \n",
       "\n",
       "                                                 source  \\\n",
       "905   <a href=\"http://vine.co\" rel=\"nofollow\">Vine -...   \n",
       "988   <a href=\"http://twitter.com/download/iphone\" r...   \n",
       "756   <a href=\"http://twitter.com/download/iphone\" r...   \n",
       "856   <a href=\"http://twitter.com/download/iphone\" r...   \n",
       "1932  <a href=\"http://twitter.com/download/iphone\" r...   \n",
       "\n",
       "                                                   text  retweeted_status_id  \\\n",
       "905   In case you haven't seen the most dramatic sne...                  NaN   \n",
       "988   What jokester sent in a pic without a dog in i...                  NaN   \n",
       "756   Meet Strider. He thinks he's a sorority girl. ...                  NaN   \n",
       "856   This is Kota and her son Benedict. She doesn't...                  NaN   \n",
       "1932  When you realize it doesn't matter how hard yo...                  NaN   \n",
       "\n",
       "      retweeted_status_user_id retweeted_status_timestamp  \\\n",
       "905                        NaN                        NaN   \n",
       "988                        NaN                        NaN   \n",
       "756                        NaN                        NaN   \n",
       "856                        NaN                        NaN   \n",
       "1932                       NaN                        NaN   \n",
       "\n",
       "                                          expanded_urls  rating_numerator  \\\n",
       "905                       https://vine.co/v/hQJbaj1VpIz                13   \n",
       "988   https://twitter.com/dog_rates/status/748977405...                10   \n",
       "756   https://twitter.com/dog_rates/status/778650543...                10   \n",
       "856   https://twitter.com/dog_rates/status/764259802...                10   \n",
       "1932  https://twitter.com/dog_rates/status/674024893...                10   \n",
       "\n",
       "      rating_denominator     name doggo floofer pupper puppo  \n",
       "905                   10     None  None    None   None  None  \n",
       "988                   10      not  None    None   None  None  \n",
       "756                   10  Strider  None    None   None  None  \n",
       "856                   10     Kota  None    None   None  None  \n",
       "1932                  10     None  None    None   None  None  "
      ]
     },
     "execution_count": 99,
     "metadata": {},
     "output_type": "execute_result"
    }
   ],
   "source": [
    "# assessing twitter1\n",
    "twitter1.sample(5)"
   ]
  },
  {
   "cell_type": "code",
   "execution_count": 100,
   "metadata": {},
   "outputs": [
    {
     "name": "stdout",
     "output_type": "stream",
     "text": [
      "<class 'pandas.core.frame.DataFrame'>\n",
      "RangeIndex: 2356 entries, 0 to 2355\n",
      "Data columns (total 17 columns):\n",
      "tweet_id                      2356 non-null int64\n",
      "in_reply_to_status_id         78 non-null float64\n",
      "in_reply_to_user_id           78 non-null float64\n",
      "timestamp                     2356 non-null object\n",
      "source                        2356 non-null object\n",
      "text                          2356 non-null object\n",
      "retweeted_status_id           181 non-null float64\n",
      "retweeted_status_user_id      181 non-null float64\n",
      "retweeted_status_timestamp    181 non-null object\n",
      "expanded_urls                 2297 non-null object\n",
      "rating_numerator              2356 non-null int64\n",
      "rating_denominator            2356 non-null int64\n",
      "name                          2356 non-null object\n",
      "doggo                         2356 non-null object\n",
      "floofer                       2356 non-null object\n",
      "pupper                        2356 non-null object\n",
      "puppo                         2356 non-null object\n",
      "dtypes: float64(4), int64(3), object(10)\n",
      "memory usage: 313.0+ KB\n"
     ]
    }
   ],
   "source": [
    "twitter1.info()"
   ]
  },
  {
   "cell_type": "code",
   "execution_count": 101,
   "metadata": {},
   "outputs": [
    {
     "data": {
      "text/plain": [
       "749075273010798592    1\n",
       "741099773336379392    1\n",
       "798644042770751489    1\n",
       "825120256414846976    1\n",
       "769212283578875904    1\n",
       "700462010979500032    1\n",
       "780858289093574656    1\n",
       "699775878809702401    1\n",
       "880095782870896641    1\n",
       "760521673607086080    1\n",
       "776477788987613185    1\n",
       "691820333922455552    1\n",
       "715696743237730304    1\n",
       "714606013974974464    1\n",
       "760539183865880579    1\n",
       "813157409116065792    1\n",
       "676430933382295552    1\n",
       "743510151680958465    1\n",
       "837012587749474308    1\n",
       "833722901757046785    1\n",
       "818259473185828864    1\n",
       "670704688707301377    1\n",
       "667160273090932737    1\n",
       "674394782723014656    1\n",
       "672082170312290304    1\n",
       "670093938074779648    1\n",
       "759923798737051648    1\n",
       "809920764300447744    1\n",
       "805487436403003392    1\n",
       "838085839343206401    1\n",
       "                     ..\n",
       "763956972077010945    1\n",
       "870308999962521604    1\n",
       "720775346191278080    1\n",
       "785927819176054784    1\n",
       "783347506784731136    1\n",
       "775733305207554048    1\n",
       "834209720923721728    1\n",
       "825026590719483904    1\n",
       "758405701903519748    1\n",
       "668986018524233728    1\n",
       "690938899477221376    1\n",
       "667911425562669056    1\n",
       "754482103782404096    1\n",
       "713175907180089344    1\n",
       "669015743032369152    1\n",
       "672068090318987265    1\n",
       "816829038950027264    1\n",
       "683773439333797890    1\n",
       "674291837063053312    1\n",
       "837482249356513284    1\n",
       "767500508068192258    1\n",
       "773922284943896577    1\n",
       "673342308415348736    1\n",
       "886054160059072513    1\n",
       "748307329658011649    1\n",
       "715360349751484417    1\n",
       "666817836334096384    1\n",
       "794926597468000259    1\n",
       "673705679337693185    1\n",
       "700151421916807169    1\n",
       "Name: tweet_id, Length: 2356, dtype: int64"
      ]
     },
     "execution_count": 101,
     "metadata": {},
     "output_type": "execute_result"
    }
   ],
   "source": [
    "twitter1['tweet_id'].value_counts()"
   ]
  },
  {
   "cell_type": "code",
   "execution_count": 102,
   "metadata": {},
   "outputs": [
    {
     "data": {
      "text/plain": [
       "<a href=\"http://twitter.com/download/iphone\" rel=\"nofollow\">Twitter for iPhone</a>     2221\n",
       "<a href=\"http://vine.co\" rel=\"nofollow\">Vine - Make a Scene</a>                          91\n",
       "<a href=\"http://twitter.com\" rel=\"nofollow\">Twitter Web Client</a>                       33\n",
       "<a href=\"https://about.twitter.com/products/tweetdeck\" rel=\"nofollow\">TweetDeck</a>      11\n",
       "Name: source, dtype: int64"
      ]
     },
     "execution_count": 102,
     "metadata": {},
     "output_type": "execute_result"
    }
   ],
   "source": [
    "twitter1['source'].value_counts()"
   ]
  },
  {
   "cell_type": "code",
   "execution_count": 103,
   "metadata": {},
   "outputs": [
    {
     "data": {
      "text/plain": [
       "Here we see a nifty leaping pupper. Feet look deadly. Sad that the holidays are over. 9/10 undeniably huggable https://t.co/ny8mnXhGOW                               1\n",
       "Here's a very sleepy pupper. Thinks it's an airplane. 12/10 would snug for eternity https://t.co/GGmcTIkBbf                                                          1\n",
       "This pupper is fed up with being tickled. 12/10 I'm currently working on an elaborate heist to steal this dog https://t.co/F33n1hy3LL                                1\n",
       "Never seen this breed before. Very pointy pup. Hurts when you cuddle. Still cute tho. 10/10 https://t.co/97HuBrVuOx                                                  1\n",
       "RT @dog_rates: Meet Shadow. In an attempt to reach maximum zooming borkdrive, he tore his ACL. Still 13/10 tho. Help him out below\\n\\nhttps:/…                       1\n",
       "Meet Lilah. She agreed on one quick pic. Now she'd like to go mentally prepare for the onslaught of fireworks. 11/10 https://t.co/enCpXzZHkD                         1\n",
       "This is Gus. He's super stoked about being an elephant. Couldn't be happier. 9/10 for elephant pupper https://t.co/gJS1qU0jP7                                        1\n",
       "This is Leo. He's a golden chow. Rather h*ckin rare. 13/10 would give extra pats https://t.co/xosHjFzVXc                                                             1\n",
       "Another spooky pupper here. Most definitely floating. No legs. Probably knows some dark magic. 10/10 very spooked https://t.co/JK8MByRzgj                            1\n",
       "Here we have uncovered an entire battalion of holiday puppers. Average of 11.26/10 https://t.co/eNm2S6p9BD                                                           1\n",
       "This is Belle. She's a Butterflop Hufflepoof. Rarer than most. Having trouble with car seat. 10/10 perturbed af https://t.co/VIXT3D26VM                              1\n",
       "\"Yo Boomer I'm taking a selfie, grab your stick\"\\n\"Ok make sure to get this rad hole I just dug in there\"\\n\\nBoth 10/10 https://t.co/e0gbl9VFpA                      1\n",
       "This is a mighty rare blue-tailed hammer sherk. Human almost lost a limb trying to take these. Be careful guys. 8/10 https://t.co/TGenMeXreW                         1\n",
       "This is Tove. She's a Balsamic Poinsetter. Surprisingly deadly. 12/10 snug with caution https://t.co/t6RvnVEdRR                                                      1\n",
       "This is Daniel. He's a neat pup. Exotic af. Custom paws. Leaps unannounced. Would totally pet. 7/10 daaamn Daniel https://t.co/5XaR0kj8cr                            1\n",
       "Say hello to Winston. He has no respect for the system. Much rebellion. I think that's a palm tree... nice. 8/10 https://t.co/dOLQddhXLZ                             1\n",
       "This is Hunter. He was playing with his ball minding his own business. Has no idea what happened to the carpet. 8/10 https://t.co/DbUTDI3u1R                         1\n",
       "Meet Chester. He just ate a lot and now he can't move. 10/10 that's going to be me in about 17 hours https://t.co/63jh1tYZa5                                         1\n",
       "This is Arnie. He's a Nova Scotian Fridge Floof. Rare af. 12/10 https://t.co/lprdOylVpS                                                                              1\n",
       "This is Sugar. She's a Bolivian Superfloof. Spherical af. 12/10 would never let go of https://t.co/AhMfUu6Onm                                                        1\n",
       "This is Charlie. He works for @TODAYshow. Super sneaky tongue slip here. 12/10 would pet until someone made me stop https://t.co/K5Jo7QRCvA                          1\n",
       "RT @dog_rates: This is Oakley. He has no idea what happened here. Even offered to help clean it up. 11/10 such a heckin good boy https://t.…                         1\n",
       "This is Atticus. He's quite simply America af. 1776/10 https://t.co/GRXwMxLBkh                                                                                       1\n",
       "Meet Sansa and Gary. They run along the fence together everyday, so the owners installed a window for them. Both 12/10 h*ckin romantic af https://t.co/1JUduNuaWl    1\n",
       "Another topnotch dog. His name is Big Jumpy Rat. Massive ass feet. Superior tail. Jumps high af. 12/10 great pup https://t.co/seESNzgsdm                             1\n",
       "This is Happy. He's a bathtub reviewer. Seems to be pleased with this one. 12/10 https://t.co/Ln89R4FP7v                                                             1\n",
       "\"Have a seat, son. There are some things we need to discuss\" 10/10 https://t.co/g4G5tvfTVd                                                                           1\n",
       "This is Philbert. His toilet broke and he doesn't know what to do. Trying not to panic. 11/10 furustrated af https://t.co/Nb68IsVb9O                                 1\n",
       "Say hello to Indie and Jupiter. They're having a stellar day out on the boat. Both 12/10 adorbz af https://t.co/KgSEkrPA3r                                           1\n",
       "This is Callie. She'll be your navigator today. Takes her job very seriously. Will shift for you. One ear always in the pupholder. 12/10 https://t.co/Bh9DtLhIBO     1\n",
       "                                                                                                                                                                    ..\n",
       "This is Maddie. She gets some wicked air time. Hardcore barkour. 11/10 nimble af https://t.co/bROYbceZ1u                                                             1\n",
       "This is Blanket. She has overthrown her human. Demands walks like this every hour on the hour. 11/10 so damn fluffy https://t.co/hrJugNHs2Z                          1\n",
       "This is Lincoln. He forgot to use his blinker when he changed lanes just now. Guilty as h*ck. Still 10/10 https://t.co/lsrR83SiVp                                    1\n",
       "This is Kilo. He's a Pouncing Brioche. Really likes snow. 11/10 https://t.co/GS76SfkraY                                                                              1\n",
       "This is Finnegus. He's trapped in a snow globe. Poor pupper. 10/10 would make sure no one shook it https://t.co/BjpOa52jQ4                                           1\n",
       "RT @dog_rates: Meet Gerald. He's a fairly exotic doggo. Floofy af. Inadequate knees tho. Self conscious about large forehead. 8/10 https://…                         1\n",
       "This is Superpup. His head isn't proportional to his body. Has yet to serve any justice. 11/10 maybe one day pupper https://t.co/gxIFgg8ktm                          1\n",
       "This is Kirby. His bowl weighs more than him. 12/10 would assist https://t.co/UlB2mzw3Xs                                                                             1\n",
       "You need to watch these two doggos argue through a cat door. Both 11/10 https://t.co/qEP31epKEV                                                                      1\n",
       "This is Koda. She's a boss. Helps shift gears. Can even drive herself. Still no seat belt (reckless af). 11/10 https://t.co/0zUxlrhZrQ                               1\n",
       "Meet Fizz. She thinks love is a social construct consisting solely of ideals perpetuated by mass media 11/10 woke af https://t.co/sPB5JMnWBn                         1\n",
       "This is Beckham. He fell asleep at the wheel. Very churlish. Looks to have a backpup driver tho. That's good. 11/10 https://t.co/rptsOm73Wr                          1\n",
       "This is Kane. He's a semi-submerged Haitian Huffleplop. Happy af. Sick waterfall. 11/10 would pat head approvingly https://t.co/7zjEC501Ul                           1\n",
       "RT @dog_rates: Meet Sammy. At first I was like \"that's a snowflake. we only rate dogs,\" but he would've melted by now, so 10/10 https://t.c…                         1\n",
       "Touching scene here. Really stirs up the emotions. The bond between father &amp; son. So beautiful. 10/10 for both pups https://t.co/AJWJHov5gx                      1\n",
       "RT @dog_rates: This is Paisley. She really wanted to be president this time. Dreams officially crushed. 13/10 https://t.co/liJGwMp17E                                1\n",
       "Two gorgeous dogs here. Little waddling dog is a rebel. Refuses to look at camera. Must be a preteen. 5/10 &amp; 8/10 https://t.co/YPfw7oahbD                        1\n",
       "This is Sweets the English Bulldog. Waves back to other bikers. 12/10 just a fantastic friendly pupper https://t.co/WYiFzuX7D4                                       1\n",
       "This is Penny. She's having fun AND being safe. 12/10 very responsible pup https://t.co/eqeWw67oU7                                                                   1\n",
       "This is a rare Arctic Wubberfloof. Unamused by the happenings. No longer has the appetites. 12/10 would totally hug https://t.co/krvbacIX0N                          1\n",
       "We only rate dogs. Pls stop sending in non-canines like this Urban Floof Giraffe. I can't handle this. 11/10 https://t.co/zHIqpM5Gni                                 1\n",
       "This is Nelly. He graduated with his dogtorate today. Wants to know if you're proud of him. 12/10 would give congratulatory boop https://t.co/4g4cfj3P4Y             1\n",
       "RT @dog_rates: This is Sampson. He's about to get hit with a vicious draw 2. Has no idea. 11/10 poor pupper https://t.co/FYT9QBEnKG                                  1\n",
       "This is Oscar. He's ready for Christmas. 11/10 https://t.co/TON0Irzgwr                                                                                               1\n",
       "This is Norman. Doesn't bark much. Very docile pup. Up to date on current events. Overall nifty pupper. 6/10 https://t.co/ntxsR98f3U                                 1\n",
       "We only rate dogs. Please don't send pics of men capturing low level clouds. Thank you... 11/10 https://t.co/rLi83ZyCL5                                              1\n",
       "There's going to be a dog terminal at JFK Airport. This is not a drill. 10/10  \\nhttps://t.co/dp5h9bCwU7                                                             1\n",
       "This is Charl. He's a bully. Chucks that dumbbell around like its nothing. Sharp neck. Exceptionally unfluffy. 3/10 https://t.co/VfLoDZecJ7                          1\n",
       "This is Buddy. He ran into a glass door once. Now he's h*ckin skeptical. 13/10 empowering af (vid by Brittany Gaunt) https://t.co/q2BgNIi3OA                         1\n",
       "This is Chubbs. He dug a hole and now he's stuck in it. Dang h*ckin doggo. 11/10 would assist https://t.co/z1VRj1cYZf                                                1\n",
       "Name: text, Length: 2356, dtype: int64"
      ]
     },
     "execution_count": 103,
     "metadata": {},
     "output_type": "execute_result"
    }
   ],
   "source": [
    "twitter1['text'].value_counts()"
   ]
  },
  {
   "cell_type": "code",
   "execution_count": 104,
   "metadata": {},
   "outputs": [
    {
     "data": {
      "text/plain": [
       "7.757333e+17    1\n",
       "7.507196e+17    1\n",
       "6.742918e+17    1\n",
       "6.833919e+17    1\n",
       "8.269587e+17    1\n",
       "8.780576e+17    1\n",
       "7.320056e+17    1\n",
       "7.186315e+17    1\n",
       "6.732953e+17    1\n",
       "7.914070e+17    1\n",
       "8.447048e+17    1\n",
       "7.862340e+17    1\n",
       "8.685523e+17    1\n",
       "7.504293e+17    1\n",
       "8.327664e+17    1\n",
       "6.690004e+17    1\n",
       "6.873173e+17    1\n",
       "7.638376e+17    1\n",
       "7.815247e+17    1\n",
       "8.092201e+17    1\n",
       "8.000650e+17    1\n",
       "8.174239e+17    1\n",
       "8.001414e+17    1\n",
       "7.909461e+17    1\n",
       "7.867091e+17    1\n",
       "8.406323e+17    1\n",
       "8.688804e+17    1\n",
       "7.869631e+17    1\n",
       "7.733088e+17    1\n",
       "8.222448e+17    1\n",
       "               ..\n",
       "6.816941e+17    1\n",
       "7.899865e+17    1\n",
       "7.939622e+17    1\n",
       "6.800555e+17    1\n",
       "7.128090e+17    1\n",
       "8.164506e+17    1\n",
       "6.769365e+17    1\n",
       "6.675487e+17    1\n",
       "8.083449e+17    1\n",
       "7.626999e+17    1\n",
       "6.678667e+17    1\n",
       "8.479710e+17    1\n",
       "6.820881e+17    1\n",
       "8.352641e+17    1\n",
       "7.761133e+17    1\n",
       "7.902771e+17    1\n",
       "6.675484e+17    1\n",
       "7.677549e+17    1\n",
       "8.782815e+17    1\n",
       "8.663350e+17    1\n",
       "7.399792e+17    1\n",
       "7.403732e+17    1\n",
       "8.395493e+17    1\n",
       "7.001438e+17    1\n",
       "8.482894e+17    1\n",
       "7.848260e+17    1\n",
       "7.806013e+17    1\n",
       "8.305833e+17    1\n",
       "7.047611e+17    1\n",
       "7.331095e+17    1\n",
       "Name: retweeted_status_id, Length: 181, dtype: int64"
      ]
     },
     "execution_count": 104,
     "metadata": {},
     "output_type": "execute_result"
    }
   ],
   "source": [
    "twitter1['retweeted_status_id'].value_counts()"
   ]
  },
  {
   "cell_type": "code",
   "execution_count": 105,
   "metadata": {},
   "outputs": [
    {
     "data": {
      "text/plain": [
       "4.196984e+09    156\n",
       "4.296832e+09      2\n",
       "5.870972e+07      1\n",
       "6.669901e+07      1\n",
       "4.119842e+07      1\n",
       "7.475543e+17      1\n",
       "7.832140e+05      1\n",
       "7.266347e+08      1\n",
       "4.871977e+08      1\n",
       "5.970642e+08      1\n",
       "4.466750e+07      1\n",
       "1.228326e+09      1\n",
       "7.992370e+07      1\n",
       "2.488557e+07      1\n",
       "7.874618e+17      1\n",
       "3.638908e+08      1\n",
       "5.128045e+08      1\n",
       "8.117408e+08      1\n",
       "1.732729e+09      1\n",
       "1.960740e+07      1\n",
       "1.547674e+08      1\n",
       "3.410211e+08      1\n",
       "7.124572e+17      1\n",
       "2.804798e+08      1\n",
       "1.950368e+08      1\n",
       "Name: retweeted_status_user_id, dtype: int64"
      ]
     },
     "execution_count": 105,
     "metadata": {},
     "output_type": "execute_result"
    }
   ],
   "source": [
    "twitter1['retweeted_status_user_id'].value_counts()"
   ]
  },
  {
   "cell_type": "code",
   "execution_count": 106,
   "metadata": {},
   "outputs": [
    {
     "data": {
      "text/plain": [
       "2017-01-07 20:18:46 +0000    1\n",
       "2016-07-13 01:34:21 +0000    1\n",
       "2016-07-13 23:48:51 +0000    1\n",
       "2016-06-04 23:31:25 +0000    1\n",
       "2016-10-04 15:55:06 +0000    1\n",
       "2015-11-16 04:02:55 +0000    1\n",
       "2017-01-14 17:00:24 +0000    1\n",
       "2017-01-11 17:01:16 +0000    1\n",
       "2016-02-02 23:52:22 +0000    1\n",
       "2017-04-01 00:36:55 +0000    1\n",
       "2017-02-17 03:39:51 +0000    1\n",
       "2017-01-02 17:00:46 +0000    1\n",
       "2016-09-28 00:46:20 +0000    1\n",
       "2017-01-15 21:49:15 +0000    1\n",
       "2015-11-28 03:31:48 +0000    1\n",
       "2016-11-19 19:55:41 +0000    1\n",
       "2016-06-07 00:36:02 +0000    1\n",
       "2016-08-01 01:28:46 +0000    1\n",
       "2016-02-21 01:19:47 +0000    1\n",
       "2017-02-14 23:43:18 +0000    1\n",
       "2016-07-25 15:23:28 +0000    1\n",
       "2016-12-17 22:43:27 +0000    1\n",
       "2016-08-05 21:19:27 +0000    1\n",
       "2016-03-24 01:11:29 +0000    1\n",
       "2015-12-22 04:35:49 +0000    1\n",
       "2017-01-02 18:38:42 +0000    1\n",
       "2017-06-23 16:00:04 +0000    1\n",
       "2017-06-09 16:22:42 +0000    1\n",
       "2016-01-06 20:16:44 +0000    1\n",
       "2017-06-19 17:14:49 +0000    1\n",
       "                            ..\n",
       "2016-01-08 05:00:14 +0000    1\n",
       "2015-12-08 18:17:56 +0000    1\n",
       "2017-01-11 02:21:57 +0000    1\n",
       "2017-01-04 01:05:59 +0000    1\n",
       "2017-01-20 17:00:46 +0000    1\n",
       "2016-09-22 20:33:42 +0000    1\n",
       "2016-01-03 05:11:12 +0000    1\n",
       "2016-03-20 23:23:54 +0000    1\n",
       "2016-12-15 02:14:29 +0000    1\n",
       "2017-02-16 23:23:38 +0000    1\n",
       "2016-07-05 20:41:01 +0000    1\n",
       "2015-11-20 01:06:48 +0000    1\n",
       "2016-10-01 19:47:08 +0000    1\n",
       "2016-04-09 02:47:55 +0000    1\n",
       "2017-01-27 17:04:02 +0000    1\n",
       "2016-10-21 18:16:44 +0000    1\n",
       "2016-08-11 20:40:41 +0000    1\n",
       "2015-11-27 19:11:49 +0000    1\n",
       "2016-10-06 01:23:05 +0000    1\n",
       "2016-07-27 00:40:12 +0000    1\n",
       "2015-12-06 00:17:55 +0000    1\n",
       "2017-03-07 00:15:46 +0000    1\n",
       "2015-12-23 00:45:35 +0000    1\n",
       "2016-03-21 19:29:52 +0000    1\n",
       "2015-12-11 16:40:19 +0000    1\n",
       "2016-08-04 01:03:17 +0000    1\n",
       "2015-12-06 01:56:44 +0000    1\n",
       "2016-11-06 01:33:58 +0000    1\n",
       "2016-10-08 18:41:19 +0000    1\n",
       "2017-02-18 01:39:12 +0000    1\n",
       "Name: retweeted_status_timestamp, Length: 181, dtype: int64"
      ]
     },
     "execution_count": 106,
     "metadata": {},
     "output_type": "execute_result"
    }
   ],
   "source": [
    "twitter1['retweeted_status_timestamp'].value_counts()"
   ]
  },
  {
   "cell_type": "code",
   "execution_count": 107,
   "metadata": {},
   "outputs": [
    {
     "data": {
      "text/plain": [
       "https://twitter.com/dog_rates/status/740676976021798912/photo/1                                                                                                                                                                                                                                              2\n",
       "https://twitter.com/dog_rates/status/739979191639244800/photo/1                                                                                                                                                                                                                                              2\n",
       "https://twitter.com/dog_rates/status/775733305207554048/photo/1                                                                                                                                                                                                                                              2\n",
       "https://twitter.com/dog_rates/status/680055455951884288/photo/1                                                                                                                                                                                                                                              2\n",
       "https://www.gofundme.com/3yd6y1c,https://twitter.com/dog_rates/status/878281511006478336/photo/1                                                                                                                                                                                                             2\n",
       "https://twitter.com/dog_rates/status/681523177663676416/photo/1                                                                                                                                                                                                                                              2\n",
       "https://twitter.com/dog_rates/status/761672994376806400/video/1                                                                                                                                                                                                                                              2\n",
       "https://www.gofundme.com/help-lorenzo-beat-cancer,https://twitter.com/dog_rates/status/860563773140209665/photo/1,https://twitter.com/dog_rates/status/860563773140209665/photo/1                                                                                                                            2\n",
       "https://twitter.com/dog_rates/status/704761120771465216/photo/1,https://twitter.com/dog_rates/status/704761120771465216/photo/1                                                                                                                                                                              2\n",
       "https://twitter.com/dog_rates/status/786709082849828864/photo/1                                                                                                                                                                                                                                              2\n",
       "https://twitter.com/dog_rates/status/718631497683582976/photo/1                                                                                                                                                                                                                                              2\n",
       "https://twitter.com/dog_rates/status/786963064373534720/photo/1                                                                                                                                                                                                                                              2\n",
       "https://www.gofundme.com/my-puppys-double-cataract-surgery,https://twitter.com/dog_rates/status/825026590719483904/photo/1,https://twitter.com/dog_rates/status/825026590719483904/photo/1                                                                                                                   2\n",
       "https://twitter.com/dog_rates/status/780931614150983680/photo/1                                                                                                                                                                                                                                              2\n",
       "https://twitter.com/dog_rates/status/832369877331693569/photo/1                                                                                                                                                                                                                                              2\n",
       "https://twitter.com/dog_rates/status/666104133288665088/photo/1                                                                                                                                                                                                                                              2\n",
       "https://twitter.com/dog_rates/status/782305867769217024/photo/1,https://twitter.com/dog_rates/status/782305867769217024/photo/1,https://twitter.com/dog_rates/status/782305867769217024/photo/1                                                                                                              2\n",
       "https://twitter.com/dog_rates/status/781524693396357120/photo/1                                                                                                                                                                                                                                              2\n",
       "https://twitter.com/dog_rates/status/676936541936185344/photo/1                                                                                                                                                                                                                                              2\n",
       "https://twitter.com/dog_rates/status/762464539388485633/photo/1,https://twitter.com/dog_rates/status/762464539388485633/photo/1,https://twitter.com/dog_rates/status/762464539388485633/photo/1,https://twitter.com/dog_rates/status/762464539388485633/photo/1                                              2\n",
       "http://www.gofundme.com/bluethewhitehusky,https://twitter.com/dog_rates/status/831650051525054464/photo/1,https://twitter.com/dog_rates/status/831650051525054464/photo/1,https://twitter.com/dog_rates/status/831650051525054464/photo/1,https://twitter.com/dog_rates/status/831650051525054464/photo/1    2\n",
       "https://www.gofundme.com/surgeryforjacktheminpin,https://twitter.com/dog_rates/status/815990720817401858/photo/1                                                                                                                                                                                             2\n",
       "https://twitter.com/dog_rates/status/698195409219559425/photo/1                                                                                                                                                                                                                                              2\n",
       "https://twitter.com/dog_rates/status/767754930266464257/photo/1                                                                                                                                                                                                                                              2\n",
       "https://twitter.com/dog_rates/status/859196978902773760/video/1                                                                                                                                                                                                                                              2\n",
       "https://twitter.com/dog_rates/status/783839966405230592/photo/1,https://twitter.com/dog_rates/status/783839966405230592/photo/1,https://twitter.com/dog_rates/status/783839966405230592/photo/1                                                                                                              2\n",
       "https://twitter.com/dog_rates/status/756288534030475264/photo/1,https://twitter.com/dog_rates/status/756288534030475264/photo/1,https://twitter.com/dog_rates/status/756288534030475264/photo/1,https://twitter.com/dog_rates/status/756288534030475264/photo/1                                              2\n",
       "https://twitter.com/dog_rates/status/810254108431155201/photo/1                                                                                                                                                                                                                                              2\n",
       "https://twitter.com/dog_rates/status/753375668877008896/photo/1                                                                                                                                                                                                                                              2\n",
       "https://twitter.com/dog_rates/status/833124694597443584/photo/1,https://twitter.com/dog_rates/status/833124694597443584/photo/1,https://twitter.com/dog_rates/status/833124694597443584/photo/1                                                                                                              2\n",
       "                                                                                                                                                                                                                                                                                                            ..\n",
       "https://twitter.com/dog_rates/status/695767669421768709/photo/1                                                                                                                                                                                                                                              1\n",
       "https://twitter.com/dog_rates/status/683773439333797890/photo/1                                                                                                                                                                                                                                              1\n",
       "https://twitter.com/dog_rates/status/675820929667219457/photo/1                                                                                                                                                                                                                                              1\n",
       "https://twitter.com/dog_rates/status/673636718965334016/photo/1                                                                                                                                                                                                                                              1\n",
       "https://twitter.com/dog_rates/status/673270968295534593/photo/1                                                                                                                                                                                                                                              1\n",
       "https://twitter.com/dog_rates/status/796031486298386433/photo/1                                                                                                                                                                                                                                              1\n",
       "https://twitter.com/dog_rates/status/750011400160841729/photo/1                                                                                                                                                                                                                                              1\n",
       "https://vine.co/v/5BYq6hmrEI3,https://vine.co/v/5BYq6hmrEI3                                                                                                                                                                                                                                                  1\n",
       "https://twitter.com/dog_rates/status/775085132600442880/photo/1                                                                                                                                                                                                                                              1\n",
       "https://twitter.com/dog_rates/status/815966073409433600/video/1,https://twitter.com/dog_rates/status/815966073409433600/video/1                                                                                                                                                                              1\n",
       "https://vine.co/v/ijmv0PD0XXD                                                                                                                                                                                                                                                                                1\n",
       "https://twitter.com/dog_rates/status/675003128568291329/photo/1,https://twitter.com/dog_rates/status/675003128568291329/photo/1                                                                                                                                                                              1\n",
       "https://twitter.com/dog_rates/status/854365224396361728/photo/1,https://twitter.com/dog_rates/status/854365224396361728/photo/1                                                                                                                                                                              1\n",
       "https://twitter.com/dog_rates/status/674447403907457024/photo/1                                                                                                                                                                                                                                              1\n",
       "https://twitter.com/dog_rates/status/674739953134403584/photo/1                                                                                                                                                                                                                                              1\n",
       "https://twitter.com/dog_rates/status/837366284874571778/photo/1                                                                                                                                                                                                                                              1\n",
       "https://twitter.com/dog_rates/status/771770456517009408/photo/1                                                                                                                                                                                                                                              1\n",
       "https://twitter.com/dog_rates/status/792913359805018113/photo/1,https://twitter.com/dog_rates/status/792913359805018113/photo/1,https://twitter.com/dog_rates/status/792913359805018113/photo/1,https://twitter.com/dog_rates/status/792913359805018113/photo/1                                              1\n",
       "https://twitter.com/dog_rates/status/829374341691346946/photo/1,https://twitter.com/dog_rates/status/829374341691346946/photo/1                                                                                                                                                                              1\n",
       "https://twitter.com/dog_rates/status/777885040357281792/photo/1,https://twitter.com/dog_rates/status/777885040357281792/photo/1                                                                                                                                                                              1\n",
       "https://twitter.com/dog_rates/status/711968124745228288/photo/1                                                                                                                                                                                                                                              1\n",
       "https://vine.co/v/iXQAm5Lrgrh                                                                                                                                                                                                                                                                                1\n",
       "https://twitter.com/bbcworld/status/878599868507402241                                                                                                                                                                                                                                                       1\n",
       "https://vine.co/v/iJvUqWQ166L                                                                                                                                                                                                                                                                                1\n",
       "https://twitter.com/dog_rates/status/677228873407442944/photo/1                                                                                                                                                                                                                                              1\n",
       "https://twitter.com/dog_rates/status/819924195358416896/video/1                                                                                                                                                                                                                                              1\n",
       "https://twitter.com/dog_rates/status/802572683846291456/photo/1                                                                                                                                                                                                                                              1\n",
       "https://twitter.com/dog_rates/status/810657578271330305/photo/1                                                                                                                                                                                                                                              1\n",
       "https://twitter.com/dog_rates/status/703774238772166656/photo/1                                                                                                                                                                                                                                              1\n",
       "https://twitter.com/dog_rates/status/673715861853720576/photo/1                                                                                                                                                                                                                                              1\n",
       "Name: expanded_urls, Length: 2218, dtype: int64"
      ]
     },
     "execution_count": 107,
     "metadata": {},
     "output_type": "execute_result"
    }
   ],
   "source": [
    "twitter1['expanded_urls'].value_counts()"
   ]
  },
  {
   "cell_type": "code",
   "execution_count": 108,
   "metadata": {},
   "outputs": [
    {
     "data": {
      "text/plain": [
       "12      558\n",
       "11      464\n",
       "10      461\n",
       "13      351\n",
       "9       158\n",
       "8       102\n",
       "7        55\n",
       "14       54\n",
       "5        37\n",
       "6        32\n",
       "3        19\n",
       "4        17\n",
       "1         9\n",
       "2         9\n",
       "420       2\n",
       "0         2\n",
       "15        2\n",
       "75        2\n",
       "80        1\n",
       "20        1\n",
       "24        1\n",
       "26        1\n",
       "44        1\n",
       "50        1\n",
       "60        1\n",
       "165       1\n",
       "84        1\n",
       "88        1\n",
       "144       1\n",
       "182       1\n",
       "143       1\n",
       "666       1\n",
       "960       1\n",
       "1776      1\n",
       "17        1\n",
       "27        1\n",
       "45        1\n",
       "99        1\n",
       "121       1\n",
       "204       1\n",
       "Name: rating_numerator, dtype: int64"
      ]
     },
     "execution_count": 108,
     "metadata": {},
     "output_type": "execute_result"
    }
   ],
   "source": [
    "twitter1['rating_numerator'].value_counts()"
   ]
  },
  {
   "cell_type": "code",
   "execution_count": 109,
   "metadata": {},
   "outputs": [
    {
     "data": {
      "text/plain": [
       "10     2333\n",
       "11        3\n",
       "50        3\n",
       "80        2\n",
       "20        2\n",
       "2         1\n",
       "16        1\n",
       "40        1\n",
       "70        1\n",
       "15        1\n",
       "90        1\n",
       "110       1\n",
       "120       1\n",
       "130       1\n",
       "150       1\n",
       "170       1\n",
       "7         1\n",
       "0         1\n",
       "Name: rating_denominator, dtype: int64"
      ]
     },
     "execution_count": 109,
     "metadata": {},
     "output_type": "execute_result"
    }
   ],
   "source": [
    "twitter1['rating_denominator'].value_counts()"
   ]
  },
  {
   "cell_type": "code",
   "execution_count": 110,
   "metadata": {},
   "outputs": [
    {
     "data": {
      "text/plain": [
       "None          745\n",
       "a              55\n",
       "Charlie        12\n",
       "Cooper         11\n",
       "Lucy           11\n",
       "Oliver         11\n",
       "Tucker         10\n",
       "Penny          10\n",
       "Lola           10\n",
       "Bo              9\n",
       "Winston         9\n",
       "the             8\n",
       "Sadie           8\n",
       "Buddy           7\n",
       "an              7\n",
       "Toby            7\n",
       "Daisy           7\n",
       "Bailey          7\n",
       "Milo            6\n",
       "Koda            6\n",
       "Bella           6\n",
       "Jack            6\n",
       "Oscar           6\n",
       "Scout           6\n",
       "Stanley         6\n",
       "Dave            6\n",
       "Jax             6\n",
       "Rusty           6\n",
       "Leo             6\n",
       "Gus             5\n",
       "             ... \n",
       "light           1\n",
       "Lucia           1\n",
       "Nugget          1\n",
       "Sprout          1\n",
       "Antony          1\n",
       "Richie          1\n",
       "Stefan          1\n",
       "Edd             1\n",
       "Bode            1\n",
       "Ruffles         1\n",
       "Durg            1\n",
       "incredibly      1\n",
       "Millie          1\n",
       "Bones           1\n",
       "Buckley         1\n",
       "Fletcher        1\n",
       "Combo           1\n",
       "Craig           1\n",
       "Shawwn          1\n",
       "Jennifur        1\n",
       "Ralphy          1\n",
       "Nigel           1\n",
       "Champ           1\n",
       "Aubie           1\n",
       "Eriq            1\n",
       "Comet           1\n",
       "Kaia            1\n",
       "Obie            1\n",
       "Cuddles         1\n",
       "Sid             1\n",
       "Name: name, Length: 957, dtype: int64"
      ]
     },
     "execution_count": 110,
     "metadata": {},
     "output_type": "execute_result"
    }
   ],
   "source": [
    "twitter1['name'].value_counts()"
   ]
  },
  {
   "cell_type": "code",
   "execution_count": 111,
   "metadata": {},
   "outputs": [
    {
     "data": {
      "text/plain": [
       "None     2259\n",
       "doggo      97\n",
       "Name: doggo, dtype: int64"
      ]
     },
     "execution_count": 111,
     "metadata": {},
     "output_type": "execute_result"
    }
   ],
   "source": [
    "twitter1['doggo'].value_counts()"
   ]
  },
  {
   "cell_type": "code",
   "execution_count": 112,
   "metadata": {},
   "outputs": [
    {
     "data": {
      "text/plain": [
       "None       2346\n",
       "floofer      10\n",
       "Name: floofer, dtype: int64"
      ]
     },
     "execution_count": 112,
     "metadata": {},
     "output_type": "execute_result"
    }
   ],
   "source": [
    "twitter1['floofer'].value_counts()"
   ]
  },
  {
   "cell_type": "code",
   "execution_count": 113,
   "metadata": {},
   "outputs": [
    {
     "data": {
      "text/plain": [
       "None      2099\n",
       "pupper     257\n",
       "Name: pupper, dtype: int64"
      ]
     },
     "execution_count": 113,
     "metadata": {},
     "output_type": "execute_result"
    }
   ],
   "source": [
    "twitter1['pupper'].value_counts()"
   ]
  },
  {
   "cell_type": "code",
   "execution_count": 114,
   "metadata": {},
   "outputs": [
    {
     "data": {
      "text/plain": [
       "None     2326\n",
       "puppo      30\n",
       "Name: puppo, dtype: int64"
      ]
     },
     "execution_count": 114,
     "metadata": {},
     "output_type": "execute_result"
    }
   ],
   "source": [
    "twitter1['puppo'].value_counts()"
   ]
  },
  {
   "cell_type": "code",
   "execution_count": 115,
   "metadata": {},
   "outputs": [
    {
     "data": {
      "text/html": [
       "<div>\n",
       "<style scoped>\n",
       "    .dataframe tbody tr th:only-of-type {\n",
       "        vertical-align: middle;\n",
       "    }\n",
       "\n",
       "    .dataframe tbody tr th {\n",
       "        vertical-align: top;\n",
       "    }\n",
       "\n",
       "    .dataframe thead th {\n",
       "        text-align: right;\n",
       "    }\n",
       "</style>\n",
       "<table border=\"1\" class=\"dataframe\">\n",
       "  <thead>\n",
       "    <tr style=\"text-align: right;\">\n",
       "      <th></th>\n",
       "      <th>tweet_id</th>\n",
       "      <th>in_reply_to_status_id</th>\n",
       "      <th>in_reply_to_user_id</th>\n",
       "      <th>timestamp</th>\n",
       "      <th>source</th>\n",
       "      <th>text</th>\n",
       "      <th>retweeted_status_id</th>\n",
       "      <th>retweeted_status_user_id</th>\n",
       "      <th>retweeted_status_timestamp</th>\n",
       "      <th>expanded_urls</th>\n",
       "      <th>rating_numerator</th>\n",
       "      <th>rating_denominator</th>\n",
       "      <th>name</th>\n",
       "      <th>doggo</th>\n",
       "      <th>floofer</th>\n",
       "      <th>pupper</th>\n",
       "      <th>puppo</th>\n",
       "    </tr>\n",
       "  </thead>\n",
       "  <tbody>\n",
       "    <tr>\n",
       "      <th>775</th>\n",
       "      <td>776201521193218049</td>\n",
       "      <td>NaN</td>\n",
       "      <td>NaN</td>\n",
       "      <td>2016-09-14 23:30:38 +0000</td>\n",
       "      <td>&lt;a href=\"http://twitter.com/download/iphone\" r...</td>\n",
       "      <td>This is O'Malley. That is how he sleeps. Doesn...</td>\n",
       "      <td>NaN</td>\n",
       "      <td>NaN</td>\n",
       "      <td>NaN</td>\n",
       "      <td>https://twitter.com/dog_rates/status/776201521...</td>\n",
       "      <td>10</td>\n",
       "      <td>10</td>\n",
       "      <td>O</td>\n",
       "      <td>None</td>\n",
       "      <td>None</td>\n",
       "      <td>None</td>\n",
       "      <td>None</td>\n",
       "    </tr>\n",
       "    <tr>\n",
       "      <th>2041</th>\n",
       "      <td>671542985629241344</td>\n",
       "      <td>NaN</td>\n",
       "      <td>NaN</td>\n",
       "      <td>2015-12-01 04:14:59 +0000</td>\n",
       "      <td>&lt;a href=\"http://twitter.com/download/iphone\" r...</td>\n",
       "      <td>This is JD (stands for \"just dog\"). He's like ...</td>\n",
       "      <td>NaN</td>\n",
       "      <td>NaN</td>\n",
       "      <td>NaN</td>\n",
       "      <td>https://twitter.com/dog_rates/status/671542985...</td>\n",
       "      <td>10</td>\n",
       "      <td>10</td>\n",
       "      <td>JD</td>\n",
       "      <td>None</td>\n",
       "      <td>None</td>\n",
       "      <td>None</td>\n",
       "      <td>None</td>\n",
       "    </tr>\n",
       "  </tbody>\n",
       "</table>\n",
       "</div>"
      ],
      "text/plain": [
       "                tweet_id  in_reply_to_status_id  in_reply_to_user_id  \\\n",
       "775   776201521193218049                    NaN                  NaN   \n",
       "2041  671542985629241344                    NaN                  NaN   \n",
       "\n",
       "                      timestamp  \\\n",
       "775   2016-09-14 23:30:38 +0000   \n",
       "2041  2015-12-01 04:14:59 +0000   \n",
       "\n",
       "                                                 source  \\\n",
       "775   <a href=\"http://twitter.com/download/iphone\" r...   \n",
       "2041  <a href=\"http://twitter.com/download/iphone\" r...   \n",
       "\n",
       "                                                   text  retweeted_status_id  \\\n",
       "775   This is O'Malley. That is how he sleeps. Doesn...                  NaN   \n",
       "2041  This is JD (stands for \"just dog\"). He's like ...                  NaN   \n",
       "\n",
       "      retweeted_status_user_id retweeted_status_timestamp  \\\n",
       "775                        NaN                        NaN   \n",
       "2041                       NaN                        NaN   \n",
       "\n",
       "                                          expanded_urls  rating_numerator  \\\n",
       "775   https://twitter.com/dog_rates/status/776201521...                10   \n",
       "2041  https://twitter.com/dog_rates/status/671542985...                10   \n",
       "\n",
       "      rating_denominator name doggo floofer pupper puppo  \n",
       "775                   10    O  None    None   None  None  \n",
       "2041                  10   JD  None    None   None  None  "
      ]
     },
     "execution_count": 115,
     "metadata": {},
     "output_type": "execute_result"
    }
   ],
   "source": [
    "twitter1.loc[twitter1['name'].str.isupper()]"
   ]
  },
  {
   "cell_type": "code",
   "execution_count": 116,
   "metadata": {},
   "outputs": [
    {
     "data": {
      "text/html": [
       "<div>\n",
       "<style scoped>\n",
       "    .dataframe tbody tr th:only-of-type {\n",
       "        vertical-align: middle;\n",
       "    }\n",
       "\n",
       "    .dataframe tbody tr th {\n",
       "        vertical-align: top;\n",
       "    }\n",
       "\n",
       "    .dataframe thead th {\n",
       "        text-align: right;\n",
       "    }\n",
       "</style>\n",
       "<table border=\"1\" class=\"dataframe\">\n",
       "  <thead>\n",
       "    <tr style=\"text-align: right;\">\n",
       "      <th></th>\n",
       "      <th>tweet_id</th>\n",
       "      <th>favorite_count</th>\n",
       "      <th>retweet_count</th>\n",
       "    </tr>\n",
       "  </thead>\n",
       "  <tbody>\n",
       "    <tr>\n",
       "      <th>1946</th>\n",
       "      <td>673363615379013632</td>\n",
       "      <td>1046</td>\n",
       "      <td>319</td>\n",
       "    </tr>\n",
       "    <tr>\n",
       "      <th>1180</th>\n",
       "      <td>717428917016076293</td>\n",
       "      <td>1685</td>\n",
       "      <td>486</td>\n",
       "    </tr>\n",
       "    <tr>\n",
       "      <th>1306</th>\n",
       "      <td>706346369204748288</td>\n",
       "      <td>3626</td>\n",
       "      <td>987</td>\n",
       "    </tr>\n",
       "    <tr>\n",
       "      <th>1299</th>\n",
       "      <td>706904523814649856</td>\n",
       "      <td>15344</td>\n",
       "      <td>8396</td>\n",
       "    </tr>\n",
       "    <tr>\n",
       "      <th>1771</th>\n",
       "      <td>677644091929329666</td>\n",
       "      <td>1960</td>\n",
       "      <td>848</td>\n",
       "    </tr>\n",
       "  </tbody>\n",
       "</table>\n",
       "</div>"
      ],
      "text/plain": [
       "                tweet_id  favorite_count  retweet_count\n",
       "1946  673363615379013632            1046            319\n",
       "1180  717428917016076293            1685            486\n",
       "1306  706346369204748288            3626            987\n",
       "1299  706904523814649856           15344           8396\n",
       "1771  677644091929329666            1960            848"
      ]
     },
     "execution_count": 116,
     "metadata": {},
     "output_type": "execute_result"
    }
   ],
   "source": [
    "# assessing twitter2\n",
    "twitter2.sample(5)"
   ]
  },
  {
   "cell_type": "code",
   "execution_count": 117,
   "metadata": {},
   "outputs": [
    {
     "name": "stdout",
     "output_type": "stream",
     "text": [
      "<class 'pandas.core.frame.DataFrame'>\n",
      "RangeIndex: 2342 entries, 0 to 2341\n",
      "Data columns (total 3 columns):\n",
      "tweet_id          2342 non-null int64\n",
      "favorite_count    2342 non-null int64\n",
      "retweet_count     2342 non-null int64\n",
      "dtypes: int64(3)\n",
      "memory usage: 55.0 KB\n"
     ]
    }
   ],
   "source": [
    "twitter2.info()"
   ]
  },
  {
   "cell_type": "code",
   "execution_count": 118,
   "metadata": {},
   "outputs": [
    {
     "data": {
      "text/plain": [
       "749075273010798592    1\n",
       "741099773336379392    1\n",
       "798644042770751489    1\n",
       "825120256414846976    1\n",
       "769212283578875904    1\n",
       "700462010979500032    1\n",
       "780858289093574656    1\n",
       "699775878809702401    1\n",
       "880095782870896641    1\n",
       "760521673607086080    1\n",
       "776477788987613185    1\n",
       "691820333922455552    1\n",
       "715696743237730304    1\n",
       "714606013974974464    1\n",
       "760539183865880579    1\n",
       "813157409116065792    1\n",
       "676430933382295552    1\n",
       "743510151680958465    1\n",
       "833722901757046785    1\n",
       "805487436403003392    1\n",
       "759923798737051648    1\n",
       "674742531037511680    1\n",
       "670704688707301377    1\n",
       "667160273090932737    1\n",
       "674394782723014656    1\n",
       "672082170312290304    1\n",
       "670093938074779648    1\n",
       "818259473185828864    1\n",
       "842765311967449089    1\n",
       "809920764300447744    1\n",
       "                     ..\n",
       "870308999962521604    1\n",
       "720775346191278080    1\n",
       "879492040517615616    1\n",
       "775733305207554048    1\n",
       "667911425562669056    1\n",
       "834209720923721728    1\n",
       "825026590719483904    1\n",
       "758405701903519748    1\n",
       "668986018524233728    1\n",
       "690938899477221376    1\n",
       "678800283649069056    1\n",
       "857062103051644929    1\n",
       "783347506784731136    1\n",
       "672068090318987265    1\n",
       "773922284943896577    1\n",
       "816829038950027264    1\n",
       "683773439333797890    1\n",
       "674291837063053312    1\n",
       "837482249356513284    1\n",
       "767500508068192258    1\n",
       "669015743032369152    1\n",
       "886054160059072513    1\n",
       "754482103782404096    1\n",
       "748307329658011649    1\n",
       "715360349751484417    1\n",
       "666817836334096384    1\n",
       "794926597468000259    1\n",
       "673705679337693185    1\n",
       "673342308415348736    1\n",
       "700151421916807169    1\n",
       "Name: tweet_id, Length: 2342, dtype: int64"
      ]
     },
     "execution_count": 118,
     "metadata": {},
     "output_type": "execute_result"
    }
   ],
   "source": [
    "twitter2['tweet_id'].value_counts()"
   ]
  },
  {
   "cell_type": "code",
   "execution_count": 119,
   "metadata": {},
   "outputs": [
    {
     "data": {
      "text/plain": [
       "0        168\n",
       "473        4\n",
       "2797       3\n",
       "1485       3\n",
       "1959       3\n",
       "4366       3\n",
       "449        3\n",
       "1732       3\n",
       "2569       3\n",
       "2906       3\n",
       "3391       3\n",
       "6193       3\n",
       "503        2\n",
       "1139       2\n",
       "308        2\n",
       "1141       2\n",
       "2875       2\n",
       "2734       2\n",
       "2379       2\n",
       "336        2\n",
       "3327       2\n",
       "3711       2\n",
       "2716       2\n",
       "768        2\n",
       "3252       2\n",
       "657        2\n",
       "758        2\n",
       "1219       2\n",
       "307        2\n",
       "2362       2\n",
       "        ... \n",
       "11859      1\n",
       "595        1\n",
       "8831       1\n",
       "601        1\n",
       "41565      1\n",
       "2654       1\n",
       "4709       1\n",
       "10854      1\n",
       "1734       1\n",
       "621        1\n",
       "1850       1\n",
       "2674       1\n",
       "627        1\n",
       "4729       1\n",
       "25213      1\n",
       "33409      1\n",
       "7491       1\n",
       "45707      1\n",
       "10892      1\n",
       "8845       1\n",
       "2702       1\n",
       "10896      1\n",
       "984        1\n",
       "76436      1\n",
       "10902      1\n",
       "665        1\n",
       "4765       1\n",
       "6814       1\n",
       "35492      1\n",
       "34826      1\n",
       "Name: favorite_count, Length: 2013, dtype: int64"
      ]
     },
     "execution_count": 119,
     "metadata": {},
     "output_type": "execute_result"
    }
   ],
   "source": [
    "twitter2['favorite_count'].value_counts()"
   ]
  },
  {
   "cell_type": "code",
   "execution_count": 120,
   "metadata": {},
   "outputs": [
    {
     "data": {
      "text/plain": [
       "59      6\n",
       "2109    5\n",
       "128     5\n",
       "245     4\n",
       "455     4\n",
       "383     4\n",
       "551     4\n",
       "856     4\n",
       "591     4\n",
       "605     4\n",
       "266     4\n",
       "84      4\n",
       "659     4\n",
       "226     4\n",
       "450     4\n",
       "789     4\n",
       "504     4\n",
       "675     4\n",
       "1192    4\n",
       "5698    3\n",
       "44      3\n",
       "1428    3\n",
       "1626    3\n",
       "1138    3\n",
       "1274    3\n",
       "564     3\n",
       "1146    3\n",
       "1112    3\n",
       "1547    3\n",
       "1567    3\n",
       "       ..\n",
       "3344    1\n",
       "53      1\n",
       "2040    1\n",
       "1291    1\n",
       "6200    1\n",
       "1289    1\n",
       "2106    1\n",
       "1287    1\n",
       "4157    1\n",
       "2110    1\n",
       "5397    1\n",
       "484     1\n",
       "3350    1\n",
       "2076    1\n",
       "2042    1\n",
       "2044    1\n",
       "2048    1\n",
       "3       1\n",
       "2052    1\n",
       "2054    1\n",
       "7       1\n",
       "2058    1\n",
       "2060    1\n",
       "6162    1\n",
       "2068    1\n",
       "23      1\n",
       "3358    1\n",
       "1309    1\n",
       "4092    1\n",
       "0       1\n",
       "Name: retweet_count, Length: 1730, dtype: int64"
      ]
     },
     "execution_count": 120,
     "metadata": {},
     "output_type": "execute_result"
    }
   ],
   "source": [
    "twitter2['retweet_count'].value_counts()"
   ]
  },
  {
   "cell_type": "code",
   "execution_count": 121,
   "metadata": {},
   "outputs": [
    {
     "data": {
      "text/html": [
       "<div>\n",
       "<style scoped>\n",
       "    .dataframe tbody tr th:only-of-type {\n",
       "        vertical-align: middle;\n",
       "    }\n",
       "\n",
       "    .dataframe tbody tr th {\n",
       "        vertical-align: top;\n",
       "    }\n",
       "\n",
       "    .dataframe thead th {\n",
       "        text-align: right;\n",
       "    }\n",
       "</style>\n",
       "<table border=\"1\" class=\"dataframe\">\n",
       "  <thead>\n",
       "    <tr style=\"text-align: right;\">\n",
       "      <th></th>\n",
       "      <th>tweet_id</th>\n",
       "      <th>jpg_url</th>\n",
       "      <th>img_num</th>\n",
       "      <th>p1</th>\n",
       "      <th>p1_conf</th>\n",
       "      <th>p1_dog</th>\n",
       "      <th>p2</th>\n",
       "      <th>p2_conf</th>\n",
       "      <th>p2_dog</th>\n",
       "      <th>p3</th>\n",
       "      <th>p3_conf</th>\n",
       "      <th>p3_dog</th>\n",
       "    </tr>\n",
       "  </thead>\n",
       "  <tbody>\n",
       "    <tr>\n",
       "      <th>1470</th>\n",
       "      <td>779123168116150273</td>\n",
       "      <td>https://pbs.twimg.com/media/CtAAYizW8AAWzBZ.jpg</td>\n",
       "      <td>1</td>\n",
       "      <td>toy_poodle</td>\n",
       "      <td>0.431080</td>\n",
       "      <td>True</td>\n",
       "      <td>soft-coated_wheaten_terrier</td>\n",
       "      <td>0.060365</td>\n",
       "      <td>True</td>\n",
       "      <td>cocker_spaniel</td>\n",
       "      <td>0.059845</td>\n",
       "      <td>True</td>\n",
       "    </tr>\n",
       "    <tr>\n",
       "      <th>535</th>\n",
       "      <td>676942428000112642</td>\n",
       "      <td>https://pbs.twimg.com/media/CWT7imQXIAMwpQ2.jpg</td>\n",
       "      <td>1</td>\n",
       "      <td>black-footed_ferret</td>\n",
       "      <td>0.707199</td>\n",
       "      <td>False</td>\n",
       "      <td>polecat</td>\n",
       "      <td>0.154630</td>\n",
       "      <td>False</td>\n",
       "      <td>weasel</td>\n",
       "      <td>0.097626</td>\n",
       "      <td>False</td>\n",
       "    </tr>\n",
       "    <tr>\n",
       "      <th>1361</th>\n",
       "      <td>761227390836215808</td>\n",
       "      <td>https://pbs.twimg.com/media/CpBsRleW8AEfO8G.jpg</td>\n",
       "      <td>1</td>\n",
       "      <td>cougar</td>\n",
       "      <td>0.306512</td>\n",
       "      <td>False</td>\n",
       "      <td>French_bulldog</td>\n",
       "      <td>0.280802</td>\n",
       "      <td>True</td>\n",
       "      <td>boxer</td>\n",
       "      <td>0.054523</td>\n",
       "      <td>True</td>\n",
       "    </tr>\n",
       "    <tr>\n",
       "      <th>1232</th>\n",
       "      <td>746056683365994496</td>\n",
       "      <td>https://pbs.twimg.com/media/ClqGl7fXIAA8nDe.jpg</td>\n",
       "      <td>1</td>\n",
       "      <td>Shetland_sheepdog</td>\n",
       "      <td>0.433320</td>\n",
       "      <td>True</td>\n",
       "      <td>collie</td>\n",
       "      <td>0.335997</td>\n",
       "      <td>True</td>\n",
       "      <td>borzoi</td>\n",
       "      <td>0.177179</td>\n",
       "      <td>True</td>\n",
       "    </tr>\n",
       "    <tr>\n",
       "      <th>1781</th>\n",
       "      <td>828708714936930305</td>\n",
       "      <td>https://pbs.twimg.com/media/C4AqLSgVYAEg8nt.jpg</td>\n",
       "      <td>1</td>\n",
       "      <td>hippopotamus</td>\n",
       "      <td>0.942911</td>\n",
       "      <td>False</td>\n",
       "      <td>Mexican_hairless</td>\n",
       "      <td>0.008388</td>\n",
       "      <td>True</td>\n",
       "      <td>ice_lolly</td>\n",
       "      <td>0.006206</td>\n",
       "      <td>False</td>\n",
       "    </tr>\n",
       "  </tbody>\n",
       "</table>\n",
       "</div>"
      ],
      "text/plain": [
       "                tweet_id                                          jpg_url  \\\n",
       "1470  779123168116150273  https://pbs.twimg.com/media/CtAAYizW8AAWzBZ.jpg   \n",
       "535   676942428000112642  https://pbs.twimg.com/media/CWT7imQXIAMwpQ2.jpg   \n",
       "1361  761227390836215808  https://pbs.twimg.com/media/CpBsRleW8AEfO8G.jpg   \n",
       "1232  746056683365994496  https://pbs.twimg.com/media/ClqGl7fXIAA8nDe.jpg   \n",
       "1781  828708714936930305  https://pbs.twimg.com/media/C4AqLSgVYAEg8nt.jpg   \n",
       "\n",
       "      img_num                   p1   p1_conf  p1_dog  \\\n",
       "1470        1           toy_poodle  0.431080    True   \n",
       "535         1  black-footed_ferret  0.707199   False   \n",
       "1361        1               cougar  0.306512   False   \n",
       "1232        1    Shetland_sheepdog  0.433320    True   \n",
       "1781        1         hippopotamus  0.942911   False   \n",
       "\n",
       "                               p2   p2_conf  p2_dog              p3   p3_conf  \\\n",
       "1470  soft-coated_wheaten_terrier  0.060365    True  cocker_spaniel  0.059845   \n",
       "535                       polecat  0.154630   False          weasel  0.097626   \n",
       "1361               French_bulldog  0.280802    True           boxer  0.054523   \n",
       "1232                       collie  0.335997    True          borzoi  0.177179   \n",
       "1781             Mexican_hairless  0.008388    True       ice_lolly  0.006206   \n",
       "\n",
       "      p3_dog  \n",
       "1470    True  \n",
       "535    False  \n",
       "1361    True  \n",
       "1232    True  \n",
       "1781   False  "
      ]
     },
     "execution_count": 121,
     "metadata": {},
     "output_type": "execute_result"
    }
   ],
   "source": [
    "images.sample(5)"
   ]
  },
  {
   "cell_type": "code",
   "execution_count": 122,
   "metadata": {},
   "outputs": [
    {
     "name": "stdout",
     "output_type": "stream",
     "text": [
      "<class 'pandas.core.frame.DataFrame'>\n",
      "RangeIndex: 2075 entries, 0 to 2074\n",
      "Data columns (total 12 columns):\n",
      "tweet_id    2075 non-null int64\n",
      "jpg_url     2075 non-null object\n",
      "img_num     2075 non-null int64\n",
      "p1          2075 non-null object\n",
      "p1_conf     2075 non-null float64\n",
      "p1_dog      2075 non-null bool\n",
      "p2          2075 non-null object\n",
      "p2_conf     2075 non-null float64\n",
      "p2_dog      2075 non-null bool\n",
      "p3          2075 non-null object\n",
      "p3_conf     2075 non-null float64\n",
      "p3_dog      2075 non-null bool\n",
      "dtypes: bool(3), float64(3), int64(2), object(4)\n",
      "memory usage: 152.1+ KB\n"
     ]
    }
   ],
   "source": [
    "images.info()"
   ]
  },
  {
   "cell_type": "code",
   "execution_count": 123,
   "metadata": {},
   "outputs": [
    {
     "data": {
      "text/plain": [
       "685532292383666176    1\n",
       "826598365270007810    1\n",
       "692158366030913536    1\n",
       "714606013974974464    1\n",
       "715696743237730304    1\n",
       "776477788987613185    1\n",
       "772114945936949249    1\n",
       "699775878809702401    1\n",
       "780858289093574656    1\n",
       "700462010979500032    1\n",
       "732726085725589504    1\n",
       "738883359779196928    1\n",
       "798644042770751489    1\n",
       "743510151680958465    1\n",
       "837012587749474308    1\n",
       "833722901757046785    1\n",
       "668620235289837568    1\n",
       "842765311967449089    1\n",
       "685315239903100929    1\n",
       "673686845050527744    1\n",
       "680473011644985345    1\n",
       "666051853826850816    1\n",
       "675853064436391936    1\n",
       "693231807727280129    1\n",
       "705475953783398401    1\n",
       "829449946868879360    1\n",
       "759923798737051648    1\n",
       "667160273090932737    1\n",
       "680934982542561280    1\n",
       "743545585370791937    1\n",
       "                     ..\n",
       "794926597468000259    1\n",
       "776113305656188928    1\n",
       "825026590719483904    1\n",
       "834209720923721728    1\n",
       "775733305207554048    1\n",
       "669564461267722241    1\n",
       "879492040517615616    1\n",
       "720775346191278080    1\n",
       "666362758909284353    1\n",
       "750506206503038976    1\n",
       "693155686491000832    1\n",
       "793601777308463104    1\n",
       "740373189193256964    1\n",
       "754482103782404096    1\n",
       "881536004380872706    1\n",
       "843604394117681152    1\n",
       "748307329658011649    1\n",
       "759846353224826880    1\n",
       "885984800019947520    1\n",
       "773922284943896577    1\n",
       "666345417576210432    1\n",
       "837482249356513284    1\n",
       "812781120811126785    1\n",
       "870804317367881728    1\n",
       "790698755171364864    1\n",
       "816829038950027264    1\n",
       "847971574464610304    1\n",
       "713175907180089344    1\n",
       "670338931251150849    1\n",
       "700151421916807169    1\n",
       "Name: tweet_id, Length: 2075, dtype: int64"
      ]
     },
     "execution_count": 123,
     "metadata": {},
     "output_type": "execute_result"
    }
   ],
   "source": [
    "images['tweet_id'].value_counts()"
   ]
  },
  {
   "cell_type": "code",
   "execution_count": 124,
   "metadata": {},
   "outputs": [
    {
     "data": {
      "text/plain": [
       "https://pbs.twimg.com/media/CsGnz64WYAEIDHJ.jpg                                            2\n",
       "https://pbs.twimg.com/media/CU3mITUWIAAfyQS.jpg                                            2\n",
       "https://pbs.twimg.com/media/CcG07BYW0AErrC9.jpg                                            2\n",
       "https://pbs.twimg.com/ext_tw_video_thumb/817423809049493505/pu/img/5OFW0yueFu9oTUiQ.jpg    2\n",
       "https://pbs.twimg.com/media/C2oRbOuWEAAbVSl.jpg                                            2\n",
       "https://pbs.twimg.com/media/CiibOMzUYAA9Mxz.jpg                                            2\n",
       "https://pbs.twimg.com/media/DFDw2tyUQAAAFke.jpg                                            2\n",
       "https://pbs.twimg.com/media/CsrjryzWgAAZY00.jpg                                            2\n",
       "https://pbs.twimg.com/media/CWza7kpWcAAdYLc.jpg                                            2\n",
       "https://pbs.twimg.com/media/CZhn-QAWwAASQan.jpg                                            2\n",
       "https://pbs.twimg.com/media/Cs_DYr1XEAA54Pu.jpg                                            2\n",
       "https://pbs.twimg.com/media/CtKHLuCWYAA2TTs.jpg                                            2\n",
       "https://pbs.twimg.com/media/CdHwZd0VIAA4792.jpg                                            2\n",
       "https://pbs.twimg.com/media/C4bTH6nWMAAX_bJ.jpg                                            2\n",
       "https://pbs.twimg.com/media/CUN4Or5UAAAa5K4.jpg                                            2\n",
       "https://pbs.twimg.com/media/ChK1tdBWwAQ1flD.jpg                                            2\n",
       "https://pbs.twimg.com/media/Ct72q9jWcAAhlnw.jpg                                            2\n",
       "https://pbs.twimg.com/ext_tw_video_thumb/815965888126062592/pu/img/JleSw4wRhgKDWQj5.jpg    2\n",
       "https://pbs.twimg.com/media/Ck2d7tJWUAEPTL3.jpg                                            2\n",
       "https://pbs.twimg.com/media/C12whDoVEAALRxa.jpg                                            2\n",
       "https://pbs.twimg.com/media/CVgdFjNWEAAxmbq.jpg                                            2\n",
       "https://pbs.twimg.com/media/C4KHj-nWQAA3poV.jpg                                            2\n",
       "https://pbs.twimg.com/media/Cwx99rpW8AMk_Ie.jpg                                            2\n",
       "https://pbs.twimg.com/media/C2kzTGxWEAEOpPL.jpg                                            2\n",
       "https://pbs.twimg.com/media/CVMOlMiWwAA4Yxl.jpg                                            2\n",
       "https://pbs.twimg.com/media/CtVAvX-WIAAcGTf.jpg                                            2\n",
       "https://pbs.twimg.com/media/CmoPdmHW8AAi8BI.jpg                                            2\n",
       "https://pbs.twimg.com/media/Cbs3DOAXIAAp3Bd.jpg                                            2\n",
       "https://pbs.twimg.com/media/CwJR1okWIAA6XMp.jpg                                            2\n",
       "https://pbs.twimg.com/media/CvyVxQRWEAAdSZS.jpg                                            2\n",
       "                                                                                          ..\n",
       "https://pbs.twimg.com/media/CX0kVRxWYAAWWZi.jpg                                            1\n",
       "https://pbs.twimg.com/media/DEi_N9qXYAAgEEw.jpg                                            1\n",
       "https://pbs.twimg.com/media/CapsyfkWcAQ41uC.jpg                                            1\n",
       "https://pbs.twimg.com/media/CcRKOzyXEAQO_HN.jpg                                            1\n",
       "https://pbs.twimg.com/media/CdPJUWIWIAAIchl.jpg                                            1\n",
       "https://pbs.twimg.com/media/CaGW8JQUMAEVtLl.jpg                                            1\n",
       "https://pbs.twimg.com/media/Cg2bKLAWwAA0WEm.jpg                                            1\n",
       "https://pbs.twimg.com/media/CYTUhn7WkAEXocW.jpg                                            1\n",
       "https://pbs.twimg.com/media/CzFp3FNW8AAfvV8.jpg                                            1\n",
       "https://pbs.twimg.com/media/CYka1NTWMAAOclP.jpg                                            1\n",
       "https://pbs.twimg.com/media/C7iNfq1W0AAcbsR.jpg                                            1\n",
       "https://pbs.twimg.com/media/DE5Se8FXcAAJFx4.jpg                                            1\n",
       "https://pbs.twimg.com/media/Cc_ney1W4AANuY3.jpg                                            1\n",
       "https://pbs.twimg.com/media/CU3AxW1WoAA3_35.jpg                                            1\n",
       "https://pbs.twimg.com/media/CUi_UtnWIAEtfqz.jpg                                            1\n",
       "https://pbs.twimg.com/media/CY42CFWW8AACOwt.jpg                                            1\n",
       "https://pbs.twimg.com/media/CmZjizYW8AA3FCN.jpg                                            1\n",
       "https://pbs.twimg.com/media/CXCGVXyWsAAAVHE.jpg                                            1\n",
       "https://pbs.twimg.com/media/CoLNAq6WAAAkmdJ.jpg                                            1\n",
       "https://pbs.twimg.com/media/CYpsFmIWAAAYh9C.jpg                                            1\n",
       "https://pbs.twimg.com/media/CYufR8_WQAAWCqo.jpg                                            1\n",
       "https://pbs.twimg.com/media/CdUGcLMWAAI42q0.jpg                                            1\n",
       "https://pbs.twimg.com/media/CYnS9VWW8AAeR8m.jpg                                            1\n",
       "https://pbs.twimg.com/media/CXLREjOW8AElfk6.jpg                                            1\n",
       "https://pbs.twimg.com/media/DFHDQBbXgAEqY7t.jpg                                            1\n",
       "https://pbs.twimg.com/media/CkTvJTdXAAAEfbT.jpg                                            1\n",
       "https://pbs.twimg.com/ext_tw_video_thumb/889278779352338437/pu/img/VlbFB3v8H8VwzVNY.jpg    1\n",
       "https://pbs.twimg.com/media/Coit84_VYAEMtLi.jpg                                            1\n",
       "https://pbs.twimg.com/media/CUGlb6iUwAITEbW.jpg                                            1\n",
       "https://pbs.twimg.com/media/C4RCiIHWYAAwgJM.jpg                                            1\n",
       "Name: jpg_url, Length: 2009, dtype: int64"
      ]
     },
     "execution_count": 124,
     "metadata": {},
     "output_type": "execute_result"
    }
   ],
   "source": [
    "images['jpg_url'].value_counts()"
   ]
  },
  {
   "cell_type": "code",
   "execution_count": 125,
   "metadata": {},
   "outputs": [
    {
     "data": {
      "text/plain": [
       "1    1780\n",
       "2     198\n",
       "3      66\n",
       "4      31\n",
       "Name: img_num, dtype: int64"
      ]
     },
     "execution_count": 125,
     "metadata": {},
     "output_type": "execute_result"
    }
   ],
   "source": [
    "images['img_num'].value_counts()"
   ]
  },
  {
   "cell_type": "code",
   "execution_count": 126,
   "metadata": {},
   "outputs": [
    {
     "data": {
      "text/plain": [
       "golden_retriever             150\n",
       "Labrador_retriever           100\n",
       "Pembroke                      89\n",
       "Chihuahua                     83\n",
       "pug                           57\n",
       "chow                          44\n",
       "Samoyed                       43\n",
       "toy_poodle                    39\n",
       "Pomeranian                    38\n",
       "malamute                      30\n",
       "cocker_spaniel                30\n",
       "French_bulldog                26\n",
       "Chesapeake_Bay_retriever      23\n",
       "miniature_pinscher            23\n",
       "seat_belt                     22\n",
       "German_shepherd               20\n",
       "Siberian_husky                20\n",
       "Staffordshire_bullterrier     20\n",
       "web_site                      19\n",
       "Cardigan                      19\n",
       "beagle                        18\n",
       "Shetland_sheepdog             18\n",
       "teddy                         18\n",
       "Eskimo_dog                    18\n",
       "Maltese_dog                   18\n",
       "Rottweiler                    17\n",
       "Lakeland_terrier              17\n",
       "Shih-Tzu                      17\n",
       "kuvasz                        16\n",
       "Italian_greyhound             16\n",
       "                            ... \n",
       "long-horned_beetle             1\n",
       "padlock                        1\n",
       "king_penguin                   1\n",
       "bearskin                       1\n",
       "studio_couch                   1\n",
       "bib                            1\n",
       "hummingbird                    1\n",
       "clumber                        1\n",
       "cheeseburger                   1\n",
       "sea_urchin                     1\n",
       "silky_terrier                  1\n",
       "jersey                         1\n",
       "cowboy_boot                    1\n",
       "barbell                        1\n",
       "swab                           1\n",
       "dining_table                   1\n",
       "flamingo                       1\n",
       "carton                         1\n",
       "scorpion                       1\n",
       "slug                           1\n",
       "pencil_box                     1\n",
       "lion                           1\n",
       "bighorn                        1\n",
       "pedestal                       1\n",
       "grey_fox                       1\n",
       "envelope                       1\n",
       "alp                            1\n",
       "trombone                       1\n",
       "polecat                        1\n",
       "platypus                       1\n",
       "Name: p1, Length: 378, dtype: int64"
      ]
     },
     "execution_count": 126,
     "metadata": {},
     "output_type": "execute_result"
    }
   ],
   "source": [
    "images['p1'].value_counts()"
   ]
  },
  {
   "cell_type": "code",
   "execution_count": 127,
   "metadata": {},
   "outputs": [
    {
     "data": {
      "text/plain": [
       "0.366248    2\n",
       "0.713293    2\n",
       "0.375098    2\n",
       "0.636169    2\n",
       "0.611525    2\n",
       "0.420463    2\n",
       "0.581403    2\n",
       "0.403698    2\n",
       "0.530104    2\n",
       "0.254856    2\n",
       "0.346545    2\n",
       "0.721188    2\n",
       "0.677408    2\n",
       "0.907083    2\n",
       "0.243529    2\n",
       "0.505370    2\n",
       "0.593858    2\n",
       "0.372202    2\n",
       "0.274637    2\n",
       "0.600276    2\n",
       "0.506312    2\n",
       "0.615163    2\n",
       "0.556595    2\n",
       "0.995143    2\n",
       "0.809197    2\n",
       "0.964929    2\n",
       "0.777468    2\n",
       "0.336200    2\n",
       "0.617389    2\n",
       "0.786089    2\n",
       "           ..\n",
       "0.483228    1\n",
       "0.556524    1\n",
       "0.176423    1\n",
       "0.318981    1\n",
       "0.733025    1\n",
       "0.730152    1\n",
       "0.436023    1\n",
       "0.479008    1\n",
       "0.162935    1\n",
       "0.897162    1\n",
       "0.320420    1\n",
       "0.999833    1\n",
       "0.995873    1\n",
       "0.523206    1\n",
       "0.942911    1\n",
       "0.537652    1\n",
       "0.672791    1\n",
       "0.952258    1\n",
       "0.855959    1\n",
       "0.665578    1\n",
       "0.841265    1\n",
       "0.668164    1\n",
       "0.946828    1\n",
       "0.714719    1\n",
       "0.352946    1\n",
       "0.713102    1\n",
       "0.765266    1\n",
       "0.491022    1\n",
       "0.905334    1\n",
       "1.000000    1\n",
       "Name: p1_conf, Length: 2006, dtype: int64"
      ]
     },
     "execution_count": 127,
     "metadata": {},
     "output_type": "execute_result"
    }
   ],
   "source": [
    "images['p1_conf'].value_counts()"
   ]
  },
  {
   "cell_type": "code",
   "execution_count": 128,
   "metadata": {},
   "outputs": [
    {
     "data": {
      "text/plain": [
       "True     1532\n",
       "False     543\n",
       "Name: p1_dog, dtype: int64"
      ]
     },
     "execution_count": 128,
     "metadata": {},
     "output_type": "execute_result"
    }
   ],
   "source": [
    "images['p1_dog'].value_counts()"
   ]
  },
  {
   "cell_type": "code",
   "execution_count": 129,
   "metadata": {},
   "outputs": [
    {
     "data": {
      "text/plain": [
       "Labrador_retriever                104\n",
       "golden_retriever                   92\n",
       "Cardigan                           73\n",
       "Chihuahua                          44\n",
       "Pomeranian                         42\n",
       "French_bulldog                     41\n",
       "Chesapeake_Bay_retriever           41\n",
       "toy_poodle                         37\n",
       "cocker_spaniel                     34\n",
       "miniature_poodle                   33\n",
       "Siberian_husky                     33\n",
       "beagle                             28\n",
       "collie                             27\n",
       "Eskimo_dog                         27\n",
       "Pembroke                           27\n",
       "kuvasz                             26\n",
       "Italian_greyhound                  22\n",
       "Pekinese                           21\n",
       "American_Staffordshire_terrier     21\n",
       "chow                               20\n",
       "toy_terrier                        20\n",
       "Samoyed                            20\n",
       "miniature_pinscher                 20\n",
       "malinois                           20\n",
       "Boston_bull                        19\n",
       "Norwegian_elkhound                 19\n",
       "Staffordshire_bullterrier          18\n",
       "pug                                17\n",
       "Irish_terrier                      17\n",
       "kelpie                             16\n",
       "                                 ... \n",
       "sandbar                             1\n",
       "shower_cap                          1\n",
       "komondor                            1\n",
       "cowboy_boot                         1\n",
       "cougar                              1\n",
       "birdhouse                           1\n",
       "mashed_potato                       1\n",
       "academic_gown                       1\n",
       "knee_pad                            1\n",
       "hyena                               1\n",
       "triceratops                         1\n",
       "bearskin                            1\n",
       "Gila_monster                        1\n",
       "wombat                              1\n",
       "bib                                 1\n",
       "cowboy_hat                          1\n",
       "mailbox                             1\n",
       "cornet                              1\n",
       "sea_urchin                          1\n",
       "desk                                1\n",
       "paper_towel                         1\n",
       "jigsaw_puzzle                       1\n",
       "armadillo                           1\n",
       "lesser_panda                        1\n",
       "coral_fungus                        1\n",
       "medicine_chest                      1\n",
       "cockroach                           1\n",
       "bathing_cap                         1\n",
       "spatula                             1\n",
       "screw                               1\n",
       "Name: p2, Length: 405, dtype: int64"
      ]
     },
     "execution_count": 129,
     "metadata": {},
     "output_type": "execute_result"
    }
   ],
   "source": [
    "images['p2'].value_counts()"
   ]
  },
  {
   "cell_type": "code",
   "execution_count": 130,
   "metadata": {},
   "outputs": [
    {
     "data": {
      "text/plain": [
       "0.069362    3\n",
       "0.027907    2\n",
       "0.193654    2\n",
       "0.271929    2\n",
       "0.003143    2\n",
       "0.197021    2\n",
       "0.347609    2\n",
       "0.151047    2\n",
       "0.052724    2\n",
       "0.153126    2\n",
       "0.119256    2\n",
       "0.227150    2\n",
       "0.057091    2\n",
       "0.149950    2\n",
       "0.025119    2\n",
       "0.165930    2\n",
       "0.190503    2\n",
       "0.012763    2\n",
       "0.181351    2\n",
       "0.325106    2\n",
       "0.020089    2\n",
       "0.172844    2\n",
       "0.142204    2\n",
       "0.152445    2\n",
       "0.052956    2\n",
       "0.099984    2\n",
       "0.093940    2\n",
       "0.252706    2\n",
       "0.140798    2\n",
       "0.130611    2\n",
       "           ..\n",
       "0.083513    1\n",
       "0.100988    1\n",
       "0.038062    1\n",
       "0.317368    1\n",
       "0.256433    1\n",
       "0.057883    1\n",
       "0.098354    1\n",
       "0.250014    1\n",
       "0.088474    1\n",
       "0.178088    1\n",
       "0.053008    1\n",
       "0.052396    1\n",
       "0.165655    1\n",
       "0.182538    1\n",
       "0.074962    1\n",
       "0.120530    1\n",
       "0.169758    1\n",
       "0.119745    1\n",
       "0.090938    1\n",
       "0.071665    1\n",
       "0.139346    1\n",
       "0.036575    1\n",
       "0.073101    1\n",
       "0.118181    1\n",
       "0.000077    1\n",
       "0.138331    1\n",
       "0.254884    1\n",
       "0.090644    1\n",
       "0.219323    1\n",
       "0.016301    1\n",
       "Name: p2_conf, Length: 2004, dtype: int64"
      ]
     },
     "execution_count": 130,
     "metadata": {},
     "output_type": "execute_result"
    }
   ],
   "source": [
    "images['p2_conf'].value_counts()"
   ]
  },
  {
   "cell_type": "code",
   "execution_count": 131,
   "metadata": {},
   "outputs": [
    {
     "data": {
      "text/plain": [
       "True     1553\n",
       "False     522\n",
       "Name: p2_dog, dtype: int64"
      ]
     },
     "execution_count": 131,
     "metadata": {},
     "output_type": "execute_result"
    }
   ],
   "source": [
    "images['p2_dog'].value_counts()"
   ]
  },
  {
   "cell_type": "code",
   "execution_count": 132,
   "metadata": {},
   "outputs": [
    {
     "data": {
      "text/plain": [
       "Labrador_retriever                79\n",
       "Chihuahua                         58\n",
       "golden_retriever                  48\n",
       "Eskimo_dog                        38\n",
       "kelpie                            35\n",
       "kuvasz                            34\n",
       "Staffordshire_bullterrier         32\n",
       "chow                              32\n",
       "beagle                            31\n",
       "cocker_spaniel                    31\n",
       "Pomeranian                        29\n",
       "Pekinese                          29\n",
       "toy_poodle                        29\n",
       "Great_Pyrenees                    27\n",
       "Pembroke                          27\n",
       "Chesapeake_Bay_retriever          27\n",
       "French_bulldog                    26\n",
       "malamute                          26\n",
       "American_Staffordshire_terrier    24\n",
       "Cardigan                          23\n",
       "pug                               23\n",
       "basenji                           21\n",
       "toy_terrier                       20\n",
       "bull_mastiff                      20\n",
       "Siberian_husky                    19\n",
       "Shetland_sheepdog                 17\n",
       "Boston_bull                       17\n",
       "Lakeland_terrier                  16\n",
       "doormat                           16\n",
       "boxer                             16\n",
       "                                  ..\n",
       "mountain_tent                      1\n",
       "pier                               1\n",
       "loggerhead                         1\n",
       "bannister                          1\n",
       "switch                             1\n",
       "soccer_ball                        1\n",
       "swimming_trunks                    1\n",
       "goose                              1\n",
       "banana                             1\n",
       "gorilla                            1\n",
       "red_wolf                           1\n",
       "barrow                             1\n",
       "entertainment_center               1\n",
       "rifle                              1\n",
       "dugong                             1\n",
       "cuirass                            1\n",
       "Indian_elephant                    1\n",
       "quill                              1\n",
       "moped                              1\n",
       "space_shuttle                      1\n",
       "acorn                              1\n",
       "brown_bear                         1\n",
       "kimono                             1\n",
       "bell_cote                          1\n",
       "lampshade                          1\n",
       "notebook                           1\n",
       "African_grey                       1\n",
       "plastic_bag                        1\n",
       "maze                               1\n",
       "crossword_puzzle                   1\n",
       "Name: p3, Length: 408, dtype: int64"
      ]
     },
     "execution_count": 132,
     "metadata": {},
     "output_type": "execute_result"
    }
   ],
   "source": [
    "images['p3'].value_counts()"
   ]
  },
  {
   "cell_type": "code",
   "execution_count": 133,
   "metadata": {},
   "outputs": [
    {
     "data": {
      "text/plain": [
       "0.094759    2\n",
       "0.035711    2\n",
       "0.000428    2\n",
       "0.044660    2\n",
       "0.162084    2\n",
       "0.077130    2\n",
       "0.116806    2\n",
       "0.146427    2\n",
       "0.003956    2\n",
       "0.039012    2\n",
       "0.137186    2\n",
       "0.109677    2\n",
       "0.096435    2\n",
       "0.157028    2\n",
       "0.157524    2\n",
       "0.118199    2\n",
       "0.016497    2\n",
       "0.100842    2\n",
       "0.151024    2\n",
       "0.005410    2\n",
       "0.026364    2\n",
       "0.186789    2\n",
       "0.223263    2\n",
       "0.087355    2\n",
       "0.121523    2\n",
       "0.041476    2\n",
       "0.071436    2\n",
       "0.046403    2\n",
       "0.014858    2\n",
       "0.003330    2\n",
       "           ..\n",
       "0.098207    1\n",
       "0.013206    1\n",
       "0.106014    1\n",
       "0.044002    1\n",
       "0.127037    1\n",
       "0.001404    1\n",
       "0.001274    1\n",
       "0.008451    1\n",
       "0.039808    1\n",
       "0.056548    1\n",
       "0.001310    1\n",
       "0.016663    1\n",
       "0.079883    1\n",
       "0.122701    1\n",
       "0.047397    1\n",
       "0.068297    1\n",
       "0.031673    1\n",
       "0.047601    1\n",
       "0.019516    1\n",
       "0.051835    1\n",
       "0.078720    1\n",
       "0.143328    1\n",
       "0.000436    1\n",
       "0.003383    1\n",
       "0.109454    1\n",
       "0.024007    1\n",
       "0.132820    1\n",
       "0.002099    1\n",
       "0.083643    1\n",
       "0.033835    1\n",
       "Name: p3_conf, Length: 2006, dtype: int64"
      ]
     },
     "execution_count": 133,
     "metadata": {},
     "output_type": "execute_result"
    }
   ],
   "source": [
    "images['p3_conf'].value_counts()"
   ]
  },
  {
   "cell_type": "code",
   "execution_count": 138,
   "metadata": {},
   "outputs": [
    {
     "data": {
      "text/plain": [
       "True     1499\n",
       "False     576\n",
       "Name: p3_dog, dtype: int64"
      ]
     },
     "execution_count": 138,
     "metadata": {},
     "output_type": "execute_result"
    }
   ],
   "source": [
    "images['p3_dog'].value_counts()"
   ]
  },
  {
   "cell_type": "markdown",
   "metadata": {},
   "source": [
    "### Quality Issues (not all issues will be cleaned)\n",
    "\n",
    "####     twitter1 dataframe\n",
    "\n",
    "- Data contains retweets (ie. rows where retweeted_status_id and retweeted_status_user_id have a number instead of NaN)\n",
    "- tweet_id is an integer\n",
    "- timestamp and retweeted_status_timestamp are currently of type 'object'\n",
    "- source is in HTML format with a and \\a tags surrounding the text\n",
    "- name has values that are the string \"None\" instead of NaN\n",
    "- Looking programmatically, some names are inaccurate such as \"a\", \"an\", \"the\", \"very\", \"by\", etc. Looking visually in Excel, I was able to find more names that are inaccurate including \"actually\", \"quite\", \"unacceptable\", \"mad\", \"not\" and \"old. It seems like the method used to extract the names was using the word the followed \"This is...\" and \"Here is...\" which leads to some inaccuracies.\n",
    "- Found an instance of a name being \"O\" instead of \"O'Malley\"\n",
    "- doggo, floofer, pupper, and puppo have values that are the string \"None\" instead of NaN\n",
    "- Upon visual inspection in Excel, there are ratings that are incorrect. I ordered the ratings from low to high and looked at the extremes only for incorrect ratings therefore there are likely more than I missed and will be difficult to find them all programmatically. Examples where things may have gone wrong is the use of decimals, or when two instances of numbers separated by a slash are present in 1 text and I assume the first was chosen. Also, there are ratings with decimals such as 13.5/10, 9.5/10 have been incorrectly extracted as 5/10 (in addition to other numbers with decimals such as 11.26 and 11.27). There are instances of 1/2 and 50/50 which are not ratings such signifying \"half\" which have been considered as ratings. Finally, use of 4/20 and 24/7 has been confused as ratings.\n",
    "- For future analysis it could be confusing to interpret unstandardized ratings. It is their gimmick to give dogs a rating of 100% but not all are above 100% so it could be interesting to see what % are below or above 100% and how this changed overtime by calculating a single value for rating.\n",
    "- There are many columns in this dataframe making it hard to read, and some will not be needed for analysis"
   ]
  },
  {
   "cell_type": "markdown",
   "metadata": {},
   "source": [
    "#### twitter2 dataframe\n",
    "- There are 11 missing tweets compared to the twitter1 datagrame (I am assuming they have been deleted)"
   ]
  },
  {
   "cell_type": "markdown",
   "metadata": {},
   "source": [
    "#### images dataframe\n",
    "- There are 2356 tweets in the twitter1 dataframe and 2075 rows in the images dataframe. This could mean that there is missing data, or that not all 2356 of the tweets had pictures.\n",
    "- tweet_id is an integer\n",
    "- p1, p2, and p3 contain underscores instead of spaces in the labels"
   ]
  },
  {
   "cell_type": "markdown",
   "metadata": {},
   "source": [
    "### Tidiness Issues\n",
    "\n",
    "#### twitter1 dataframe\n",
    "- 1 variable (dog stage) in 4 different columns (doggo, floofer, pupper, and puppo)\n",
    "\n",
    "#### twitter2 dataframe\n",
    "- twitter2 data should be combined with the twitter1 data since they are information about the same tweet\n",
    "\n",
    "#### images dataframe\n",
    "- images data could be combined with the twitter1 data as well since it is all information about 1 tweet"
   ]
  },
  {
   "cell_type": "markdown",
   "metadata": {},
   "source": [
    "# Clean"
   ]
  },
  {
   "cell_type": "code",
   "execution_count": 139,
   "metadata": {},
   "outputs": [],
   "source": [
    "# Make copies of the dataframes for cleaning\n",
    "\n",
    "twitter1_clean = twitter1.copy()\n",
    "twitter2_clean = twitter2.copy()\n",
    "images_clean = images.copy()"
   ]
  },
  {
   "cell_type": "markdown",
   "metadata": {},
   "source": [
    "### Tidiness issue 1 - Merge all dataframes\n",
    "##### Define\n",
    "###### Issue: \n",
    "- twitter2 and images data should be combined with the twitter1 data since they are information about the same tweet\n",
    "###### Solution: \n",
    "- Merge the 3 datasets together on 'tweet_id' using the reduce function.\n",
    "\n",
    "### code"
   ]
  },
  {
   "cell_type": "code",
   "execution_count": 140,
   "metadata": {},
   "outputs": [],
   "source": [
    "# Merge the twitter1, twitter2, and images dataframes on 'tweet_id'\n",
    "dfs = [twitter1_clean, twitter2_clean, images_clean]\n",
    "twitter = reduce(lambda left,right: pd.merge(left,right,on='tweet_id'), dfs)"
   ]
  },
  {
   "cell_type": "markdown",
   "metadata": {},
   "source": [
    "### Test"
   ]
  },
  {
   "cell_type": "code",
   "execution_count": 141,
   "metadata": {},
   "outputs": [
    {
     "data": {
      "text/html": [
       "<div>\n",
       "<style scoped>\n",
       "    .dataframe tbody tr th:only-of-type {\n",
       "        vertical-align: middle;\n",
       "    }\n",
       "\n",
       "    .dataframe tbody tr th {\n",
       "        vertical-align: top;\n",
       "    }\n",
       "\n",
       "    .dataframe thead th {\n",
       "        text-align: right;\n",
       "    }\n",
       "</style>\n",
       "<table border=\"1\" class=\"dataframe\">\n",
       "  <thead>\n",
       "    <tr style=\"text-align: right;\">\n",
       "      <th></th>\n",
       "      <th>tweet_id</th>\n",
       "      <th>in_reply_to_status_id</th>\n",
       "      <th>in_reply_to_user_id</th>\n",
       "      <th>timestamp</th>\n",
       "      <th>source</th>\n",
       "      <th>text</th>\n",
       "      <th>retweeted_status_id</th>\n",
       "      <th>retweeted_status_user_id</th>\n",
       "      <th>retweeted_status_timestamp</th>\n",
       "      <th>expanded_urls</th>\n",
       "      <th>rating_numerator</th>\n",
       "      <th>rating_denominator</th>\n",
       "      <th>name</th>\n",
       "      <th>doggo</th>\n",
       "      <th>floofer</th>\n",
       "      <th>pupper</th>\n",
       "      <th>puppo</th>\n",
       "      <th>favorite_count</th>\n",
       "      <th>retweet_count</th>\n",
       "      <th>jpg_url</th>\n",
       "      <th>img_num</th>\n",
       "      <th>p1</th>\n",
       "      <th>p1_conf</th>\n",
       "      <th>p1_dog</th>\n",
       "      <th>p2</th>\n",
       "      <th>p2_conf</th>\n",
       "      <th>p2_dog</th>\n",
       "      <th>p3</th>\n",
       "      <th>p3_conf</th>\n",
       "      <th>p3_dog</th>\n",
       "    </tr>\n",
       "  </thead>\n",
       "  <tbody>\n",
       "    <tr>\n",
       "      <th>0</th>\n",
       "      <td>892420643555336193</td>\n",
       "      <td>NaN</td>\n",
       "      <td>NaN</td>\n",
       "      <td>2017-08-01 16:23:56 +0000</td>\n",
       "      <td>&lt;a href=\"http://twitter.com/download/iphone\" r...</td>\n",
       "      <td>This is Phineas. He's a mystical boy. Only eve...</td>\n",
       "      <td>NaN</td>\n",
       "      <td>NaN</td>\n",
       "      <td>NaN</td>\n",
       "      <td>https://twitter.com/dog_rates/status/892420643...</td>\n",
       "      <td>13</td>\n",
       "      <td>10</td>\n",
       "      <td>Phineas</td>\n",
       "      <td>None</td>\n",
       "      <td>None</td>\n",
       "      <td>None</td>\n",
       "      <td>None</td>\n",
       "      <td>38235</td>\n",
       "      <td>8376</td>\n",
       "      <td>https://pbs.twimg.com/media/DGKD1-bXoAAIAUK.jpg</td>\n",
       "      <td>1</td>\n",
       "      <td>orange</td>\n",
       "      <td>0.097049</td>\n",
       "      <td>False</td>\n",
       "      <td>bagel</td>\n",
       "      <td>0.085851</td>\n",
       "      <td>False</td>\n",
       "      <td>banana</td>\n",
       "      <td>0.076110</td>\n",
       "      <td>False</td>\n",
       "    </tr>\n",
       "    <tr>\n",
       "      <th>1</th>\n",
       "      <td>892177421306343426</td>\n",
       "      <td>NaN</td>\n",
       "      <td>NaN</td>\n",
       "      <td>2017-08-01 00:17:27 +0000</td>\n",
       "      <td>&lt;a href=\"http://twitter.com/download/iphone\" r...</td>\n",
       "      <td>This is Tilly. She's just checking pup on you....</td>\n",
       "      <td>NaN</td>\n",
       "      <td>NaN</td>\n",
       "      <td>NaN</td>\n",
       "      <td>https://twitter.com/dog_rates/status/892177421...</td>\n",
       "      <td>13</td>\n",
       "      <td>10</td>\n",
       "      <td>Tilly</td>\n",
       "      <td>None</td>\n",
       "      <td>None</td>\n",
       "      <td>None</td>\n",
       "      <td>None</td>\n",
       "      <td>32781</td>\n",
       "      <td>6184</td>\n",
       "      <td>https://pbs.twimg.com/media/DGGmoV4XsAAUL6n.jpg</td>\n",
       "      <td>1</td>\n",
       "      <td>Chihuahua</td>\n",
       "      <td>0.323581</td>\n",
       "      <td>True</td>\n",
       "      <td>Pekinese</td>\n",
       "      <td>0.090647</td>\n",
       "      <td>True</td>\n",
       "      <td>papillon</td>\n",
       "      <td>0.068957</td>\n",
       "      <td>True</td>\n",
       "    </tr>\n",
       "  </tbody>\n",
       "</table>\n",
       "</div>"
      ],
      "text/plain": [
       "             tweet_id  in_reply_to_status_id  in_reply_to_user_id  \\\n",
       "0  892420643555336193                    NaN                  NaN   \n",
       "1  892177421306343426                    NaN                  NaN   \n",
       "\n",
       "                   timestamp  \\\n",
       "0  2017-08-01 16:23:56 +0000   \n",
       "1  2017-08-01 00:17:27 +0000   \n",
       "\n",
       "                                              source  \\\n",
       "0  <a href=\"http://twitter.com/download/iphone\" r...   \n",
       "1  <a href=\"http://twitter.com/download/iphone\" r...   \n",
       "\n",
       "                                                text  retweeted_status_id  \\\n",
       "0  This is Phineas. He's a mystical boy. Only eve...                  NaN   \n",
       "1  This is Tilly. She's just checking pup on you....                  NaN   \n",
       "\n",
       "   retweeted_status_user_id retweeted_status_timestamp  \\\n",
       "0                       NaN                        NaN   \n",
       "1                       NaN                        NaN   \n",
       "\n",
       "                                       expanded_urls  rating_numerator  \\\n",
       "0  https://twitter.com/dog_rates/status/892420643...                13   \n",
       "1  https://twitter.com/dog_rates/status/892177421...                13   \n",
       "\n",
       "   rating_denominator     name doggo floofer pupper puppo  favorite_count  \\\n",
       "0                  10  Phineas  None    None   None  None           38235   \n",
       "1                  10    Tilly  None    None   None  None           32781   \n",
       "\n",
       "   retweet_count                                          jpg_url  img_num  \\\n",
       "0           8376  https://pbs.twimg.com/media/DGKD1-bXoAAIAUK.jpg        1   \n",
       "1           6184  https://pbs.twimg.com/media/DGGmoV4XsAAUL6n.jpg        1   \n",
       "\n",
       "          p1   p1_conf  p1_dog        p2   p2_conf  p2_dog        p3  \\\n",
       "0     orange  0.097049   False     bagel  0.085851   False    banana   \n",
       "1  Chihuahua  0.323581    True  Pekinese  0.090647    True  papillon   \n",
       "\n",
       "    p3_conf  p3_dog  \n",
       "0  0.076110   False  \n",
       "1  0.068957    True  "
      ]
     },
     "execution_count": 141,
     "metadata": {},
     "output_type": "execute_result"
    }
   ],
   "source": [
    "# View first few lines of new twitter dataframe to ensure the columns have merged\n",
    "twitter.head(2)"
   ]
  },
  {
   "cell_type": "code",
   "execution_count": 142,
   "metadata": {},
   "outputs": [
    {
     "name": "stdout",
     "output_type": "stream",
     "text": [
      "<class 'pandas.core.frame.DataFrame'>\n",
      "Int64Index: 2068 entries, 0 to 2067\n",
      "Data columns (total 30 columns):\n",
      "tweet_id                      2068 non-null int64\n",
      "in_reply_to_status_id         23 non-null float64\n",
      "in_reply_to_user_id           23 non-null float64\n",
      "timestamp                     2068 non-null object\n",
      "source                        2068 non-null object\n",
      "text                          2068 non-null object\n",
      "retweeted_status_id           75 non-null float64\n",
      "retweeted_status_user_id      75 non-null float64\n",
      "retweeted_status_timestamp    75 non-null object\n",
      "expanded_urls                 2068 non-null object\n",
      "rating_numerator              2068 non-null int64\n",
      "rating_denominator            2068 non-null int64\n",
      "name                          2068 non-null object\n",
      "doggo                         2068 non-null object\n",
      "floofer                       2068 non-null object\n",
      "pupper                        2068 non-null object\n",
      "puppo                         2068 non-null object\n",
      "favorite_count                2068 non-null int64\n",
      "retweet_count                 2068 non-null int64\n",
      "jpg_url                       2068 non-null object\n",
      "img_num                       2068 non-null int64\n",
      "p1                            2068 non-null object\n",
      "p1_conf                       2068 non-null float64\n",
      "p1_dog                        2068 non-null bool\n",
      "p2                            2068 non-null object\n",
      "p2_conf                       2068 non-null float64\n",
      "p2_dog                        2068 non-null bool\n",
      "p3                            2068 non-null object\n",
      "p3_conf                       2068 non-null float64\n",
      "p3_dog                        2068 non-null bool\n",
      "dtypes: bool(3), float64(7), int64(6), object(14)\n",
      "memory usage: 458.4+ KB\n"
     ]
    }
   ],
   "source": [
    "# View info of new twitter dataframe to ensure the columns have merged\n",
    "twitter.info()"
   ]
  },
  {
   "cell_type": "markdown",
   "metadata": {},
   "source": [
    "### Tidiness issue 2 - One column for dog stages\n",
    "\n",
    "#### Define\n",
    "##### Issue:\n",
    "- 1 variable (dog stage) in 4 different columns (doggo, floofer, pupper, and puppo)\n",
    "##### Solution:\n",
    "- Extract the dog stages from the 'text' column into the new 'dog_stage' column using regular expression then drop the 'doggo', 'floofer', 'pupper', and 'puppo' columns. This also takes care of the quality issue of \"name has values that are the string \"None\" instead of NaN\".\n",
    "\n",
    "### Code"
   ]
  },
  {
   "cell_type": "code",
   "execution_count": 143,
   "metadata": {},
   "outputs": [],
   "source": [
    "# Extract dog stages from 'text' column into new 'dog_stage' column \n",
    "twitter['dog_stage'] = twitter['text'].str.extract('(doggo|floofer|pupper|puppo)')"
   ]
  },
  {
   "cell_type": "code",
   "execution_count": 144,
   "metadata": {},
   "outputs": [
    {
     "data": {
      "text/html": [
       "<div>\n",
       "<style scoped>\n",
       "    .dataframe tbody tr th:only-of-type {\n",
       "        vertical-align: middle;\n",
       "    }\n",
       "\n",
       "    .dataframe tbody tr th {\n",
       "        vertical-align: top;\n",
       "    }\n",
       "\n",
       "    .dataframe thead th {\n",
       "        text-align: right;\n",
       "    }\n",
       "</style>\n",
       "<table border=\"1\" class=\"dataframe\">\n",
       "  <thead>\n",
       "    <tr style=\"text-align: right;\">\n",
       "      <th></th>\n",
       "      <th>dog_stage</th>\n",
       "      <th>doggo</th>\n",
       "      <th>floofer</th>\n",
       "      <th>pupper</th>\n",
       "      <th>puppo</th>\n",
       "    </tr>\n",
       "  </thead>\n",
       "  <tbody>\n",
       "    <tr>\n",
       "      <th>0</th>\n",
       "      <td>NaN</td>\n",
       "      <td>None</td>\n",
       "      <td>None</td>\n",
       "      <td>None</td>\n",
       "      <td>None</td>\n",
       "    </tr>\n",
       "    <tr>\n",
       "      <th>1</th>\n",
       "      <td>NaN</td>\n",
       "      <td>None</td>\n",
       "      <td>None</td>\n",
       "      <td>None</td>\n",
       "      <td>None</td>\n",
       "    </tr>\n",
       "    <tr>\n",
       "      <th>2</th>\n",
       "      <td>NaN</td>\n",
       "      <td>None</td>\n",
       "      <td>None</td>\n",
       "      <td>None</td>\n",
       "      <td>None</td>\n",
       "    </tr>\n",
       "    <tr>\n",
       "      <th>3</th>\n",
       "      <td>NaN</td>\n",
       "      <td>None</td>\n",
       "      <td>None</td>\n",
       "      <td>None</td>\n",
       "      <td>None</td>\n",
       "    </tr>\n",
       "    <tr>\n",
       "      <th>4</th>\n",
       "      <td>NaN</td>\n",
       "      <td>None</td>\n",
       "      <td>None</td>\n",
       "      <td>None</td>\n",
       "      <td>None</td>\n",
       "    </tr>\n",
       "    <tr>\n",
       "      <th>5</th>\n",
       "      <td>NaN</td>\n",
       "      <td>None</td>\n",
       "      <td>None</td>\n",
       "      <td>None</td>\n",
       "      <td>None</td>\n",
       "    </tr>\n",
       "    <tr>\n",
       "      <th>6</th>\n",
       "      <td>NaN</td>\n",
       "      <td>None</td>\n",
       "      <td>None</td>\n",
       "      <td>None</td>\n",
       "      <td>None</td>\n",
       "    </tr>\n",
       "    <tr>\n",
       "      <th>7</th>\n",
       "      <td>NaN</td>\n",
       "      <td>None</td>\n",
       "      <td>None</td>\n",
       "      <td>None</td>\n",
       "      <td>None</td>\n",
       "    </tr>\n",
       "    <tr>\n",
       "      <th>8</th>\n",
       "      <td>NaN</td>\n",
       "      <td>None</td>\n",
       "      <td>None</td>\n",
       "      <td>None</td>\n",
       "      <td>None</td>\n",
       "    </tr>\n",
       "    <tr>\n",
       "      <th>9</th>\n",
       "      <td>doggo</td>\n",
       "      <td>doggo</td>\n",
       "      <td>None</td>\n",
       "      <td>None</td>\n",
       "      <td>None</td>\n",
       "    </tr>\n",
       "    <tr>\n",
       "      <th>10</th>\n",
       "      <td>NaN</td>\n",
       "      <td>None</td>\n",
       "      <td>None</td>\n",
       "      <td>None</td>\n",
       "      <td>None</td>\n",
       "    </tr>\n",
       "    <tr>\n",
       "      <th>11</th>\n",
       "      <td>NaN</td>\n",
       "      <td>None</td>\n",
       "      <td>None</td>\n",
       "      <td>None</td>\n",
       "      <td>None</td>\n",
       "    </tr>\n",
       "    <tr>\n",
       "      <th>12</th>\n",
       "      <td>puppo</td>\n",
       "      <td>None</td>\n",
       "      <td>None</td>\n",
       "      <td>None</td>\n",
       "      <td>puppo</td>\n",
       "    </tr>\n",
       "    <tr>\n",
       "      <th>13</th>\n",
       "      <td>NaN</td>\n",
       "      <td>None</td>\n",
       "      <td>None</td>\n",
       "      <td>None</td>\n",
       "      <td>None</td>\n",
       "    </tr>\n",
       "    <tr>\n",
       "      <th>14</th>\n",
       "      <td>puppo</td>\n",
       "      <td>None</td>\n",
       "      <td>None</td>\n",
       "      <td>None</td>\n",
       "      <td>puppo</td>\n",
       "    </tr>\n",
       "  </tbody>\n",
       "</table>\n",
       "</div>"
      ],
      "text/plain": [
       "   dog_stage  doggo floofer pupper  puppo\n",
       "0        NaN   None    None   None   None\n",
       "1        NaN   None    None   None   None\n",
       "2        NaN   None    None   None   None\n",
       "3        NaN   None    None   None   None\n",
       "4        NaN   None    None   None   None\n",
       "5        NaN   None    None   None   None\n",
       "6        NaN   None    None   None   None\n",
       "7        NaN   None    None   None   None\n",
       "8        NaN   None    None   None   None\n",
       "9      doggo  doggo    None   None   None\n",
       "10       NaN   None    None   None   None\n",
       "11       NaN   None    None   None   None\n",
       "12     puppo   None    None   None  puppo\n",
       "13       NaN   None    None   None   None\n",
       "14     puppo   None    None   None  puppo"
      ]
     },
     "execution_count": 144,
     "metadata": {},
     "output_type": "execute_result"
    }
   ],
   "source": [
    "# Check that first few instances of dog_stage are similar \n",
    "# to that which was previously extracted\n",
    "twitter[['dog_stage','doggo', 'floofer', 'pupper', 'puppo']].head(15)"
   ]
  },
  {
   "cell_type": "code",
   "execution_count": 145,
   "metadata": {},
   "outputs": [],
   "source": [
    "# Drop doggo, floofer, pupper, and puppo columns\n",
    "twitter = twitter.drop(['doggo', 'floofer', 'pupper', 'puppo'], axis=1)"
   ]
  },
  {
   "cell_type": "markdown",
   "metadata": {},
   "source": [
    "### Test "
   ]
  },
  {
   "cell_type": "code",
   "execution_count": 146,
   "metadata": {},
   "outputs": [
    {
     "name": "stdout",
     "output_type": "stream",
     "text": [
      "<class 'pandas.core.frame.DataFrame'>\n",
      "Int64Index: 2068 entries, 0 to 2067\n",
      "Data columns (total 27 columns):\n",
      "tweet_id                      2068 non-null int64\n",
      "in_reply_to_status_id         23 non-null float64\n",
      "in_reply_to_user_id           23 non-null float64\n",
      "timestamp                     2068 non-null object\n",
      "source                        2068 non-null object\n",
      "text                          2068 non-null object\n",
      "retweeted_status_id           75 non-null float64\n",
      "retweeted_status_user_id      75 non-null float64\n",
      "retweeted_status_timestamp    75 non-null object\n",
      "expanded_urls                 2068 non-null object\n",
      "rating_numerator              2068 non-null int64\n",
      "rating_denominator            2068 non-null int64\n",
      "name                          2068 non-null object\n",
      "favorite_count                2068 non-null int64\n",
      "retweet_count                 2068 non-null int64\n",
      "jpg_url                       2068 non-null object\n",
      "img_num                       2068 non-null int64\n",
      "p1                            2068 non-null object\n",
      "p1_conf                       2068 non-null float64\n",
      "p1_dog                        2068 non-null bool\n",
      "p2                            2068 non-null object\n",
      "p2_conf                       2068 non-null float64\n",
      "p2_dog                        2068 non-null bool\n",
      "p3                            2068 non-null object\n",
      "p3_conf                       2068 non-null float64\n",
      "p3_dog                        2068 non-null bool\n",
      "dog_stage                     338 non-null object\n",
      "dtypes: bool(3), float64(7), int64(6), object(11)\n",
      "memory usage: 410.0+ KB\n"
     ]
    }
   ],
   "source": [
    "# Check for presence of 'dog_stage\" and absence of 'doggo', 'floofer', \n",
    "# 'pupper', and 'puppo'\n",
    "twitter.info()"
   ]
  },
  {
   "cell_type": "markdown",
   "metadata": {},
   "source": [
    "### Quality issue 1 - Remove retweets\n",
    "#### Define\n",
    "##### Issue:\n",
    "- Data contains retweets\n",
    "##### Solution:\n",
    "- Rows where 'retweeted_status_id' is a NaN will be kept (ie. if it has a value it will be removed), then the 'retweeted_status_id', 'retweeted_status_user_id' and 'retweeted_status_timestamp' columns will be removed.\n",
    "\n",
    "### Code"
   ]
  },
  {
   "cell_type": "code",
   "execution_count": 147,
   "metadata": {},
   "outputs": [
    {
     "name": "stdout",
     "output_type": "stream",
     "text": [
      "<class 'pandas.core.frame.DataFrame'>\n",
      "Int64Index: 1993 entries, 0 to 2067\n",
      "Data columns (total 27 columns):\n",
      "tweet_id                      1993 non-null int64\n",
      "in_reply_to_status_id         23 non-null float64\n",
      "in_reply_to_user_id           23 non-null float64\n",
      "timestamp                     1993 non-null object\n",
      "source                        1993 non-null object\n",
      "text                          1993 non-null object\n",
      "retweeted_status_id           0 non-null float64\n",
      "retweeted_status_user_id      0 non-null float64\n",
      "retweeted_status_timestamp    0 non-null object\n",
      "expanded_urls                 1993 non-null object\n",
      "rating_numerator              1993 non-null int64\n",
      "rating_denominator            1993 non-null int64\n",
      "name                          1993 non-null object\n",
      "favorite_count                1993 non-null int64\n",
      "retweet_count                 1993 non-null int64\n",
      "jpg_url                       1993 non-null object\n",
      "img_num                       1993 non-null int64\n",
      "p1                            1993 non-null object\n",
      "p1_conf                       1993 non-null float64\n",
      "p1_dog                        1993 non-null bool\n",
      "p2                            1993 non-null object\n",
      "p2_conf                       1993 non-null float64\n",
      "p2_dog                        1993 non-null bool\n",
      "p3                            1993 non-null object\n",
      "p3_conf                       1993 non-null float64\n",
      "p3_dog                        1993 non-null bool\n",
      "dog_stage                     326 non-null object\n",
      "dtypes: bool(3), float64(7), int64(6), object(11)\n",
      "memory usage: 395.1+ KB\n",
      "None\n"
     ]
    }
   ],
   "source": [
    "# Keep columns where 'retweeted_status_id' is NaN\n",
    "twitter = twitter[np.isnan(twitter.retweeted_status_id)]\n",
    "\n",
    "# Check info to determine all there are no non-null entries for\n",
    "# 'retweeted_status_id', 'retweeted_status_user_id' and \n",
    "# 'retweeted_status_timestamp'\n",
    "print(twitter.info())\n",
    "\n",
    "# Remove 'retweeted_status_id', 'retweeted_status_user_id' and \n",
    "# 'retweeted_status_timestamp' columns\n",
    "twitter = twitter.drop(['retweeted_status_id', \n",
    "                        'retweeted_status_user_id', \n",
    "                        'retweeted_status_timestamp'], \n",
    "                       axis=1)"
   ]
  },
  {
   "cell_type": "markdown",
   "metadata": {},
   "source": [
    "### test"
   ]
  },
  {
   "cell_type": "code",
   "execution_count": 148,
   "metadata": {},
   "outputs": [
    {
     "name": "stdout",
     "output_type": "stream",
     "text": [
      "<class 'pandas.core.frame.DataFrame'>\n",
      "Int64Index: 1993 entries, 0 to 2067\n",
      "Data columns (total 24 columns):\n",
      "tweet_id                 1993 non-null int64\n",
      "in_reply_to_status_id    23 non-null float64\n",
      "in_reply_to_user_id      23 non-null float64\n",
      "timestamp                1993 non-null object\n",
      "source                   1993 non-null object\n",
      "text                     1993 non-null object\n",
      "expanded_urls            1993 non-null object\n",
      "rating_numerator         1993 non-null int64\n",
      "rating_denominator       1993 non-null int64\n",
      "name                     1993 non-null object\n",
      "favorite_count           1993 non-null int64\n",
      "retweet_count            1993 non-null int64\n",
      "jpg_url                  1993 non-null object\n",
      "img_num                  1993 non-null int64\n",
      "p1                       1993 non-null object\n",
      "p1_conf                  1993 non-null float64\n",
      "p1_dog                   1993 non-null bool\n",
      "p2                       1993 non-null object\n",
      "p2_conf                  1993 non-null float64\n",
      "p2_dog                   1993 non-null bool\n",
      "p3                       1993 non-null object\n",
      "p3_conf                  1993 non-null float64\n",
      "p3_dog                   1993 non-null bool\n",
      "dog_stage                326 non-null object\n",
      "dtypes: bool(3), float64(5), int64(6), object(10)\n",
      "memory usage: 348.4+ KB\n"
     ]
    }
   ],
   "source": [
    "# Check info to ensure the 'retweeted_status_id', 'retweeted_status_user_id' \n",
    "# and 'retweeted_status_timestamp' columns have been dropped\n",
    "twitter.info()"
   ]
  },
  {
   "cell_type": "markdown",
   "metadata": {},
   "source": [
    "### Quality issue 2 - tweet_id is an integer\n",
    "#### Define\n",
    "##### Issue:\n",
    "- tweet_id is an integer\n",
    "##### Solution:\n",
    "- Change tweet_id to a string/object\n",
    "\n",
    "### Code"
   ]
  },
  {
   "cell_type": "code",
   "execution_count": 149,
   "metadata": {},
   "outputs": [],
   "source": [
    "# Change 'tweet_id' to a string\n",
    "twitter['tweet_id'] = twitter['tweet_id'].astype(str)"
   ]
  },
  {
   "cell_type": "markdown",
   "metadata": {},
   "source": [
    "### Test"
   ]
  },
  {
   "cell_type": "code",
   "execution_count": 150,
   "metadata": {},
   "outputs": [
    {
     "name": "stdout",
     "output_type": "stream",
     "text": [
      "<class 'pandas.core.frame.DataFrame'>\n",
      "Int64Index: 1993 entries, 0 to 2067\n",
      "Data columns (total 24 columns):\n",
      "tweet_id                 1993 non-null object\n",
      "in_reply_to_status_id    23 non-null float64\n",
      "in_reply_to_user_id      23 non-null float64\n",
      "timestamp                1993 non-null object\n",
      "source                   1993 non-null object\n",
      "text                     1993 non-null object\n",
      "expanded_urls            1993 non-null object\n",
      "rating_numerator         1993 non-null int64\n",
      "rating_denominator       1993 non-null int64\n",
      "name                     1993 non-null object\n",
      "favorite_count           1993 non-null int64\n",
      "retweet_count            1993 non-null int64\n",
      "jpg_url                  1993 non-null object\n",
      "img_num                  1993 non-null int64\n",
      "p1                       1993 non-null object\n",
      "p1_conf                  1993 non-null float64\n",
      "p1_dog                   1993 non-null bool\n",
      "p2                       1993 non-null object\n",
      "p2_conf                  1993 non-null float64\n",
      "p2_dog                   1993 non-null bool\n",
      "p3                       1993 non-null object\n",
      "p3_conf                  1993 non-null float64\n",
      "p3_dog                   1993 non-null bool\n",
      "dog_stage                326 non-null object\n",
      "dtypes: bool(3), float64(5), int64(5), object(11)\n",
      "memory usage: 348.4+ KB\n"
     ]
    }
   ],
   "source": [
    "# Check info to confirm tweet_id has been changed from an\n",
    "# integer to a string/object\n",
    "twitter.info()"
   ]
  },
  {
   "cell_type": "markdown",
   "metadata": {},
   "source": [
    "### Quality issue 3 - 'timestamp' type\n",
    "#### Define\n",
    "##### Issue:\n",
    "- 'timestamp' and 'retweeted_status_timestamp' are currently of type 'object'\n",
    "##### Solution:\n",
    "- Convert 'timestamp' to a datetime object ('retweeted_status_timestamp' was deleted)\n",
    "\n",
    "### Code"
   ]
  },
  {
   "cell_type": "code",
   "execution_count": 151,
   "metadata": {},
   "outputs": [],
   "source": [
    "# Remove the time zone information from 'timestamp' column\n",
    "twitter['timestamp'] = twitter['timestamp'].str.slice(start=0, stop=-6)"
   ]
  },
  {
   "cell_type": "code",
   "execution_count": 152,
   "metadata": {},
   "outputs": [],
   "source": [
    "# Change the 'timestamp' column to a datetime object\n",
    "twitter['timestamp'] = pd.to_datetime(twitter['timestamp'], format = \"%Y-%m-%d %H:%M:%S\")"
   ]
  },
  {
   "cell_type": "markdown",
   "metadata": {},
   "source": [
    "### Test"
   ]
  },
  {
   "cell_type": "code",
   "execution_count": 153,
   "metadata": {},
   "outputs": [
    {
     "name": "stdout",
     "output_type": "stream",
     "text": [
      "<class 'pandas.core.frame.DataFrame'>\n",
      "Int64Index: 1993 entries, 0 to 2067\n",
      "Data columns (total 24 columns):\n",
      "tweet_id                 1993 non-null object\n",
      "in_reply_to_status_id    23 non-null float64\n",
      "in_reply_to_user_id      23 non-null float64\n",
      "timestamp                1993 non-null datetime64[ns]\n",
      "source                   1993 non-null object\n",
      "text                     1993 non-null object\n",
      "expanded_urls            1993 non-null object\n",
      "rating_numerator         1993 non-null int64\n",
      "rating_denominator       1993 non-null int64\n",
      "name                     1993 non-null object\n",
      "favorite_count           1993 non-null int64\n",
      "retweet_count            1993 non-null int64\n",
      "jpg_url                  1993 non-null object\n",
      "img_num                  1993 non-null int64\n",
      "p1                       1993 non-null object\n",
      "p1_conf                  1993 non-null float64\n",
      "p1_dog                   1993 non-null bool\n",
      "p2                       1993 non-null object\n",
      "p2_conf                  1993 non-null float64\n",
      "p2_dog                   1993 non-null bool\n",
      "p3                       1993 non-null object\n",
      "p3_conf                  1993 non-null float64\n",
      "p3_dog                   1993 non-null bool\n",
      "dog_stage                326 non-null object\n",
      "dtypes: bool(3), datetime64[ns](1), float64(5), int64(5), object(10)\n",
      "memory usage: 348.4+ KB\n"
     ]
    }
   ],
   "source": [
    "# Confirm that 'timestamp' column is now a datetime object\n",
    "twitter.info()"
   ]
  },
  {
   "cell_type": "markdown",
   "metadata": {},
   "source": [
    "### Quality issue 4/5/6 - Various issues with 'name'\n",
    "#### Define\n",
    "##### Issue:\n",
    "1. name has values that are the string \"None\" instead of NaN\n",
    "2. Looking programmatically, some names are inaccurate such as \"a\", \"an\", \"the\", \"very\", \"by\", etc. Looking visually in Excel, I was able to find more names that are inaccurate including \"actually\", \"quite\", \"unacceptable\", \"mad\", \"not\" and \"old. It seems like the method used to extract the names was using the word the followed \"This is...\" and \"Here is...\" which leads to some inaccuracies.\n",
    "3. I also found an instand of a name being \"O\" instead of \"O'Malley\"\n",
    "Solution: Replace all inaccurate names with NaNs, and the \"O\" with \"O'Malley\".\n",
    "\n",
    "### Code"
   ]
  },
  {
   "cell_type": "code",
   "execution_count": 154,
   "metadata": {},
   "outputs": [
    {
     "name": "stdout",
     "output_type": "stream",
     "text": [
      "['such', 'a', 'quite', 'one', 'incredibly', 'very', 'my', 'not', 'his', 'an', 'just', 'getting', 'this', 'unacceptable', 'all', 'infuriating', 'the', 'actually', 'by', 'officially', 'light', 'space']\n"
     ]
    }
   ],
   "source": [
    "# Find all names that start with a lowercase letter\n",
    "lowercase_names = []\n",
    "for row in twitter['name']:\n",
    "    if row[0].islower() and row not in lowercase_names:\n",
    "        lowercase_names.append(row)\n",
    "print(lowercase_names)"
   ]
  },
  {
   "cell_type": "code",
   "execution_count": 155,
   "metadata": {},
   "outputs": [],
   "source": [
    "# Replace all names that start with a lowercase letter with a NaN\n",
    "twitter['name'].replace(lowercase_names, \n",
    "                        np.nan,\n",
    "                       inplace = True)\n",
    "\n",
    "# Replace all 'None's with a NaN\n",
    "twitter['name'].replace('None', \n",
    "                        np.nan,\n",
    "                       inplace = True)\n",
    "\n",
    "# Replace the name 'O' with \"O'Malley\" \n",
    "twitter['name'].replace('O', \n",
    "                        \"O'Malley\",\n",
    "                       inplace = True)"
   ]
  },
  {
   "cell_type": "markdown",
   "metadata": {},
   "source": [
    "### Test"
   ]
  },
  {
   "cell_type": "code",
   "execution_count": 156,
   "metadata": {},
   "outputs": [
    {
     "data": {
      "text/plain": [
       "Lucy        10\n",
       "Oliver      10\n",
       "Charlie     10\n",
       "Cooper      10\n",
       "Penny        9\n",
       "Tucker       9\n",
       "Winston      8\n",
       "Sadie        8\n",
       "Lola         7\n",
       "Toby         7\n",
       "Daisy        7\n",
       "Bella        6\n",
       "Koda         6\n",
       "Bo           6\n",
       "Jax          6\n",
       "Stanley      6\n",
       "Chester      5\n",
       "Milo         5\n",
       "Louis        5\n",
       "Buddy        5\n",
       "Oscar        5\n",
       "Scout        5\n",
       "Rusty        5\n",
       "Bailey       5\n",
       "Leo          5\n",
       "Dave         5\n",
       "Scooter      4\n",
       "Larry        4\n",
       "George       4\n",
       "Gus          4\n",
       "            ..\n",
       "Keurig       1\n",
       "Cora         1\n",
       "Binky        1\n",
       "Marlee       1\n",
       "Caryl        1\n",
       "Bode         1\n",
       "Craig        1\n",
       "Fletcher     1\n",
       "Lili         1\n",
       "Fynn         1\n",
       "Steve        1\n",
       "Emanuel      1\n",
       "Sky          1\n",
       "Swagger      1\n",
       "Aiden        1\n",
       "Zuzu         1\n",
       "Ralpher      1\n",
       "Harper       1\n",
       "Keet         1\n",
       "Buckley      1\n",
       "Mona         1\n",
       "Doobert      1\n",
       "Reagan       1\n",
       "Jameson      1\n",
       "Ruffles      1\n",
       "Durg         1\n",
       "Millie       1\n",
       "Tater        1\n",
       "Bones        1\n",
       "Sid          1\n",
       "Name: name, Length: 913, dtype: int64"
      ]
     },
     "execution_count": 156,
     "metadata": {},
     "output_type": "execute_result"
    }
   ],
   "source": [
    "# Check value counts to see that None and names starting with \n",
    "# a lowercase letter are gone\n",
    "twitter['name'].value_counts()"
   ]
  },
  {
   "cell_type": "markdown",
   "metadata": {},
   "source": [
    "### Quality issue 7 - Inaccurate ratings\n",
    "#### Define\n",
    "##### Issue:\n",
    "- Some ratings with decimals such as 13.5/10, 9.5/10 have been incorrectly exported as 5/10 (in addition to other numbers with decimals such as 11.26 and 11.27).\n",
    "\n",
    "##### Solution:\n",
    "- Find all instances of ratings that contained decimals and replace the numerator values with the correct values.\n",
    "\n",
    "### Code"
   ]
  },
  {
   "cell_type": "code",
   "execution_count": 157,
   "metadata": {},
   "outputs": [
    {
     "data": {
      "text/plain": [
       "['This is Bella. She hopes her smile made you smile. If not, she is also offering you her favorite monkey. 13.5/10 https://t.co/qjrljjt948',\n",
       " \"This is Logan, the Chow who lived. He solemnly swears he's up to lots of good. H*ckin magical af 9.75/10 https://t.co/yBO5wuqaPS\",\n",
       " \"This is Sophie. She's a Jubilant Bush Pupper. Super h*ckin rare. Appears at random just to smile at the locals. 11.27/10 would smile back https://t.co/QFaUiIHxHq\",\n",
       " 'Here we have uncovered an entire battalion of holiday puppers. Average of 11.26/10 https://t.co/eNm2S6p9BD']"
      ]
     },
     "execution_count": 157,
     "metadata": {},
     "output_type": "execute_result"
    }
   ],
   "source": [
    "# Obtain all text, indices, and ratings for tweets that contain a decimal \n",
    "# in the numerator of rating\n",
    "ratings_with_decimals_text = []\n",
    "ratings_with_decimals_index = []\n",
    "ratings_with_decimals = []\n",
    "\n",
    "for i, text in twitter['text'].iteritems():\n",
    "    if bool(re.search('\\d+\\.\\d+\\/\\d+', text)):\n",
    "        ratings_with_decimals_text.append(text)\n",
    "        ratings_with_decimals_index.append(i)\n",
    "        ratings_with_decimals.append(re.search('\\d+\\.\\d+', text).group())\n",
    "\n",
    "# Print the text to confirm presence of ratings with decimals        \n",
    "ratings_with_decimals_text"
   ]
  },
  {
   "cell_type": "code",
   "execution_count": 158,
   "metadata": {},
   "outputs": [
    {
     "data": {
      "text/plain": [
       "[40, 553, 609, 1446]"
      ]
     },
     "execution_count": 158,
     "metadata": {},
     "output_type": "execute_result"
    }
   ],
   "source": [
    "# Print the index of text with decimal ratings\n",
    "ratings_with_decimals_index"
   ]
  },
  {
   "cell_type": "code",
   "execution_count": 159,
   "metadata": {},
   "outputs": [],
   "source": [
    "# Change contents of 'rating_numerator' based on info found in \n",
    "# preceeding 2 cells\n",
    "twitter.loc[ratings_with_decimals_index[0],'rating_numerator'] = float(ratings_with_decimals[0])\n",
    "twitter.loc[ratings_with_decimals_index[1],'rating_numerator'] = float(ratings_with_decimals[1])\n",
    "twitter.loc[ratings_with_decimals_index[2],'rating_numerator'] = float(ratings_with_decimals[2])\n",
    "twitter.loc[ratings_with_decimals_index[3],'rating_numerator'] = float(ratings_with_decimals[3])"
   ]
  },
  {
   "cell_type": "markdown",
   "metadata": {},
   "source": [
    "### Test"
   ]
  },
  {
   "cell_type": "code",
   "execution_count": 160,
   "metadata": {},
   "outputs": [
    {
     "data": {
      "text/plain": [
       "tweet_id                                                883482846933004288\n",
       "in_reply_to_status_id                                                  NaN\n",
       "in_reply_to_user_id                                                    NaN\n",
       "timestamp                                              2017-07-08 00:28:19\n",
       "source                   <a href=\"http://twitter.com/download/iphone\" r...\n",
       "text                     This is Bella. She hopes her smile made you sm...\n",
       "expanded_urls            https://twitter.com/dog_rates/status/883482846...\n",
       "rating_numerator                                                      13.5\n",
       "rating_denominator                                                      10\n",
       "name                                                                 Bella\n",
       "favorite_count                                                       45309\n",
       "retweet_count                                                         9816\n",
       "jpg_url                    https://pbs.twimg.com/media/DELC9dZXUAADqUk.jpg\n",
       "img_num                                                                  1\n",
       "p1                                                        golden_retriever\n",
       "p1_conf                                                           0.943082\n",
       "p1_dog                                                                True\n",
       "p2                                                      Labrador_retriever\n",
       "p2_conf                                                           0.032409\n",
       "p2_dog                                                                True\n",
       "p3                                                                  kuvasz\n",
       "p3_conf                                                         0.00550072\n",
       "p3_dog                                                                True\n",
       "dog_stage                                                              NaN\n",
       "Name: 40, dtype: object"
      ]
     },
     "execution_count": 160,
     "metadata": {},
     "output_type": "execute_result"
    }
   ],
   "source": [
    "# Check contents of row with index 40 to ensure the rating is corrected\n",
    "twitter.loc[40]"
   ]
  },
  {
   "cell_type": "markdown",
   "metadata": {},
   "source": [
    "### Quality issue 8 - Unstandardized ratings\n",
    "#### Define\n",
    "##### Issue:\n",
    "- For future analysis it could be confusing to interpret unstandardized ratings. It is their gimmick to give dogs a rating of 100% but not all are above 100% so it could be interesting to see what % are below or above 100% and how this changed overtime by calculating a single value for rating.\n",
    "##### Solution:\n",
    "- Calulate the value of the numerator divided by the denominator and save this in a new column called 'rating'.\n",
    "\n",
    "### Code"
   ]
  },
  {
   "cell_type": "code",
   "execution_count": 161,
   "metadata": {},
   "outputs": [],
   "source": [
    "# Calulate the value of 'rating'\n",
    "twitter['rating'] = twitter['rating_numerator'] / twitter['rating_denominator']"
   ]
  },
  {
   "cell_type": "markdown",
   "metadata": {},
   "source": [
    "### Test"
   ]
  },
  {
   "cell_type": "code",
   "execution_count": 162,
   "metadata": {},
   "outputs": [
    {
     "data": {
      "text/html": [
       "<div>\n",
       "<style scoped>\n",
       "    .dataframe tbody tr th:only-of-type {\n",
       "        vertical-align: middle;\n",
       "    }\n",
       "\n",
       "    .dataframe tbody tr th {\n",
       "        vertical-align: top;\n",
       "    }\n",
       "\n",
       "    .dataframe thead th {\n",
       "        text-align: right;\n",
       "    }\n",
       "</style>\n",
       "<table border=\"1\" class=\"dataframe\">\n",
       "  <thead>\n",
       "    <tr style=\"text-align: right;\">\n",
       "      <th></th>\n",
       "      <th>tweet_id</th>\n",
       "      <th>in_reply_to_status_id</th>\n",
       "      <th>in_reply_to_user_id</th>\n",
       "      <th>timestamp</th>\n",
       "      <th>source</th>\n",
       "      <th>text</th>\n",
       "      <th>expanded_urls</th>\n",
       "      <th>rating_numerator</th>\n",
       "      <th>rating_denominator</th>\n",
       "      <th>name</th>\n",
       "      <th>favorite_count</th>\n",
       "      <th>retweet_count</th>\n",
       "      <th>jpg_url</th>\n",
       "      <th>img_num</th>\n",
       "      <th>p1</th>\n",
       "      <th>p1_conf</th>\n",
       "      <th>p1_dog</th>\n",
       "      <th>p2</th>\n",
       "      <th>p2_conf</th>\n",
       "      <th>p2_dog</th>\n",
       "      <th>p3</th>\n",
       "      <th>p3_conf</th>\n",
       "      <th>p3_dog</th>\n",
       "      <th>dog_stage</th>\n",
       "      <th>rating</th>\n",
       "    </tr>\n",
       "  </thead>\n",
       "  <tbody>\n",
       "    <tr>\n",
       "      <th>0</th>\n",
       "      <td>892420643555336193</td>\n",
       "      <td>NaN</td>\n",
       "      <td>NaN</td>\n",
       "      <td>2017-08-01 16:23:56</td>\n",
       "      <td>&lt;a href=\"http://twitter.com/download/iphone\" r...</td>\n",
       "      <td>This is Phineas. He's a mystical boy. Only eve...</td>\n",
       "      <td>https://twitter.com/dog_rates/status/892420643...</td>\n",
       "      <td>13.0</td>\n",
       "      <td>10</td>\n",
       "      <td>Phineas</td>\n",
       "      <td>38235</td>\n",
       "      <td>8376</td>\n",
       "      <td>https://pbs.twimg.com/media/DGKD1-bXoAAIAUK.jpg</td>\n",
       "      <td>1</td>\n",
       "      <td>orange</td>\n",
       "      <td>0.097049</td>\n",
       "      <td>False</td>\n",
       "      <td>bagel</td>\n",
       "      <td>0.085851</td>\n",
       "      <td>False</td>\n",
       "      <td>banana</td>\n",
       "      <td>0.07611</td>\n",
       "      <td>False</td>\n",
       "      <td>NaN</td>\n",
       "      <td>1.3</td>\n",
       "    </tr>\n",
       "  </tbody>\n",
       "</table>\n",
       "</div>"
      ],
      "text/plain": [
       "             tweet_id  in_reply_to_status_id  in_reply_to_user_id  \\\n",
       "0  892420643555336193                    NaN                  NaN   \n",
       "\n",
       "            timestamp                                             source  \\\n",
       "0 2017-08-01 16:23:56  <a href=\"http://twitter.com/download/iphone\" r...   \n",
       "\n",
       "                                                text  \\\n",
       "0  This is Phineas. He's a mystical boy. Only eve...   \n",
       "\n",
       "                                       expanded_urls  rating_numerator  \\\n",
       "0  https://twitter.com/dog_rates/status/892420643...              13.0   \n",
       "\n",
       "   rating_denominator     name  favorite_count  retweet_count  \\\n",
       "0                  10  Phineas           38235           8376   \n",
       "\n",
       "                                           jpg_url  img_num      p1   p1_conf  \\\n",
       "0  https://pbs.twimg.com/media/DGKD1-bXoAAIAUK.jpg        1  orange  0.097049   \n",
       "\n",
       "   p1_dog     p2   p2_conf  p2_dog      p3  p3_conf  p3_dog dog_stage  rating  \n",
       "0   False  bagel  0.085851   False  banana  0.07611   False       NaN     1.3  "
      ]
     },
     "execution_count": 162,
     "metadata": {},
     "output_type": "execute_result"
    }
   ],
   "source": [
    "# Check for presence of new column and correct calculation\n",
    "twitter.head(1)"
   ]
  },
  {
   "cell_type": "markdown",
   "metadata": {},
   "source": [
    "### Quality issue 9 - Unnessary columns and text cut off¶\n",
    "#### Define\n",
    "##### Issue:\n",
    "- There are many columns in this dataframe making it hard to read, and some will not be needed for analysis. In addition some of the text in the table output is cut off.\n",
    "##### Solution:\n",
    "- Drop undesired columns and change table display settings.\n",
    "\n",
    "### Code"
   ]
  },
  {
   "cell_type": "code",
   "execution_count": 163,
   "metadata": {},
   "outputs": [
    {
     "data": {
      "text/plain": [
       "Index(['tweet_id', 'in_reply_to_status_id', 'in_reply_to_user_id', 'timestamp',\n",
       "       'source', 'text', 'expanded_urls', 'rating_numerator',\n",
       "       'rating_denominator', 'name', 'favorite_count', 'retweet_count',\n",
       "       'jpg_url', 'img_num', 'p1', 'p1_conf', 'p1_dog', 'p2', 'p2_conf',\n",
       "       'p2_dog', 'p3', 'p3_conf', 'p3_dog', 'dog_stage', 'rating'],\n",
       "      dtype='object')"
      ]
     },
     "execution_count": 163,
     "metadata": {},
     "output_type": "execute_result"
    }
   ],
   "source": [
    "# View all column names\n",
    "twitter.columns"
   ]
  },
  {
   "cell_type": "code",
   "execution_count": 164,
   "metadata": {},
   "outputs": [],
   "source": [
    "# Change some column names so they are shorter\n",
    "twitter.rename(columns={'rating_numerator': 'numerator', \n",
    "                        'rating_denominator': 'denominator'}, inplace=True)\n",
    "\n",
    "# Drop undesired columns to make dataframe easier to view\n",
    "twitter.drop(['in_reply_to_status_id', \n",
    "              'in_reply_to_user_id',\n",
    "              'source',\n",
    "              'img_num'], axis=1, inplace=True)\n",
    "\n",
    "# Allow all columns and text to be shown \n",
    "pd.set_option('display.max_columns', None)"
   ]
  },
  {
   "cell_type": "markdown",
   "metadata": {},
   "source": [
    "### Test"
   ]
  },
  {
   "cell_type": "code",
   "execution_count": 165,
   "metadata": {},
   "outputs": [
    {
     "data": {
      "text/html": [
       "<div>\n",
       "<style scoped>\n",
       "    .dataframe tbody tr th:only-of-type {\n",
       "        vertical-align: middle;\n",
       "    }\n",
       "\n",
       "    .dataframe tbody tr th {\n",
       "        vertical-align: top;\n",
       "    }\n",
       "\n",
       "    .dataframe thead th {\n",
       "        text-align: right;\n",
       "    }\n",
       "</style>\n",
       "<table border=\"1\" class=\"dataframe\">\n",
       "  <thead>\n",
       "    <tr style=\"text-align: right;\">\n",
       "      <th></th>\n",
       "      <th>tweet_id</th>\n",
       "      <th>timestamp</th>\n",
       "      <th>text</th>\n",
       "      <th>expanded_urls</th>\n",
       "      <th>numerator</th>\n",
       "      <th>denominator</th>\n",
       "      <th>name</th>\n",
       "      <th>favorite_count</th>\n",
       "      <th>retweet_count</th>\n",
       "      <th>jpg_url</th>\n",
       "      <th>p1</th>\n",
       "      <th>p1_conf</th>\n",
       "      <th>p1_dog</th>\n",
       "      <th>p2</th>\n",
       "      <th>p2_conf</th>\n",
       "      <th>p2_dog</th>\n",
       "      <th>p3</th>\n",
       "      <th>p3_conf</th>\n",
       "      <th>p3_dog</th>\n",
       "      <th>dog_stage</th>\n",
       "      <th>rating</th>\n",
       "    </tr>\n",
       "  </thead>\n",
       "  <tbody>\n",
       "    <tr>\n",
       "      <th>0</th>\n",
       "      <td>892420643555336193</td>\n",
       "      <td>2017-08-01 16:23:56</td>\n",
       "      <td>This is Phineas. He's a mystical boy. Only eve...</td>\n",
       "      <td>https://twitter.com/dog_rates/status/892420643...</td>\n",
       "      <td>13.0</td>\n",
       "      <td>10</td>\n",
       "      <td>Phineas</td>\n",
       "      <td>38235</td>\n",
       "      <td>8376</td>\n",
       "      <td>https://pbs.twimg.com/media/DGKD1-bXoAAIAUK.jpg</td>\n",
       "      <td>orange</td>\n",
       "      <td>0.097049</td>\n",
       "      <td>False</td>\n",
       "      <td>bagel</td>\n",
       "      <td>0.085851</td>\n",
       "      <td>False</td>\n",
       "      <td>banana</td>\n",
       "      <td>0.07611</td>\n",
       "      <td>False</td>\n",
       "      <td>NaN</td>\n",
       "      <td>1.3</td>\n",
       "    </tr>\n",
       "  </tbody>\n",
       "</table>\n",
       "</div>"
      ],
      "text/plain": [
       "             tweet_id           timestamp  \\\n",
       "0  892420643555336193 2017-08-01 16:23:56   \n",
       "\n",
       "                                                text  \\\n",
       "0  This is Phineas. He's a mystical boy. Only eve...   \n",
       "\n",
       "                                       expanded_urls  numerator  denominator  \\\n",
       "0  https://twitter.com/dog_rates/status/892420643...       13.0           10   \n",
       "\n",
       "      name  favorite_count  retweet_count  \\\n",
       "0  Phineas           38235           8376   \n",
       "\n",
       "                                           jpg_url      p1   p1_conf  p1_dog  \\\n",
       "0  https://pbs.twimg.com/media/DGKD1-bXoAAIAUK.jpg  orange  0.097049   False   \n",
       "\n",
       "      p2   p2_conf  p2_dog      p3  p3_conf  p3_dog dog_stage  rating  \n",
       "0  bagel  0.085851   False  banana  0.07611   False       NaN     1.3  "
      ]
     },
     "execution_count": 165,
     "metadata": {},
     "output_type": "execute_result"
    }
   ],
   "source": [
    "# Confirm that now dataframe contains the desired columns and\n",
    "# all text is shown for easy viewing\n",
    "twitter.head(1)"
   ]
  },
  {
   "cell_type": "markdown",
   "metadata": {},
   "source": [
    "## Storing Dataframe"
   ]
  },
  {
   "cell_type": "code",
   "execution_count": 166,
   "metadata": {},
   "outputs": [],
   "source": [
    "# Save twitter dataframe to a CSV file\n",
    "twitter.to_csv('twitter_archive_master.csv')"
   ]
  },
  {
   "cell_type": "markdown",
   "metadata": {},
   "source": [
    "## Anayze and Visualize"
   ]
  },
  {
   "cell_type": "code",
   "execution_count": 167,
   "metadata": {},
   "outputs": [
    {
     "data": {
      "image/png": "[encoded data removed]",
      "text/plain": [
       "<matplotlib.figure.Figure at 0x7f352280cc88>"
      ]
     },
     "metadata": {
      "needs_background": "light"
     },
     "output_type": "display_data"
    }
   ],
   "source": [
    "# Plot scatterplot of retweet vs favorite count\n",
    "sns.lmplot(x=\"retweet_count\", \n",
    "           y=\"favorite_count\", \n",
    "           data=twitter,\n",
    "           size = 5,\n",
    "           aspect=1.3,\n",
    "           scatter_kws={'alpha':1/5})\n",
    "plt.title('Favorite vs. Retweet Count')\n",
    "plt.xlabel('Retweet Count')\n",
    "plt.ylabel('Favorite Count');"
   ]
  },
  {
   "cell_type": "code",
   "execution_count": 168,
   "metadata": {},
   "outputs": [
    {
     "data": {
      "image/png": "[encoded data removed]",
      "text/plain": [
       "<matplotlib.figure.Figure at 0x7f35227da908>"
      ]
     },
     "metadata": {
      "needs_background": "light"
     },
     "output_type": "display_data"
    }
   ],
   "source": [
    "# Plot standardized ratings over time\n",
    "twitter.groupby('timestamp')['rating'].mean().plot(kind='line')\n",
    "plt.title('Rating over Time')\n",
    "plt.xlabel('Time')\n",
    "plt.ylabel('Standardized Rating')\n",
    "plt.show;"
   ]
  },
  {
   "cell_type": "code",
   "execution_count": 169,
   "metadata": {},
   "outputs": [
    {
     "data": {
      "text/html": [
       "<div>\n",
       "<style scoped>\n",
       "    .dataframe tbody tr th:only-of-type {\n",
       "        vertical-align: middle;\n",
       "    }\n",
       "\n",
       "    .dataframe tbody tr th {\n",
       "        vertical-align: top;\n",
       "    }\n",
       "\n",
       "    .dataframe thead th {\n",
       "        text-align: right;\n",
       "    }\n",
       "</style>\n",
       "<table border=\"1\" class=\"dataframe\">\n",
       "  <thead>\n",
       "    <tr style=\"text-align: right;\">\n",
       "      <th></th>\n",
       "      <th>tweet_id</th>\n",
       "      <th>timestamp</th>\n",
       "      <th>text</th>\n",
       "      <th>expanded_urls</th>\n",
       "      <th>numerator</th>\n",
       "      <th>denominator</th>\n",
       "      <th>name</th>\n",
       "      <th>favorite_count</th>\n",
       "      <th>retweet_count</th>\n",
       "      <th>jpg_url</th>\n",
       "      <th>p1</th>\n",
       "      <th>p1_conf</th>\n",
       "      <th>p1_dog</th>\n",
       "      <th>p2</th>\n",
       "      <th>p2_conf</th>\n",
       "      <th>p2_dog</th>\n",
       "      <th>p3</th>\n",
       "      <th>p3_conf</th>\n",
       "      <th>p3_dog</th>\n",
       "      <th>dog_stage</th>\n",
       "      <th>rating</th>\n",
       "    </tr>\n",
       "  </thead>\n",
       "  <tbody>\n",
       "    <tr>\n",
       "      <th>411</th>\n",
       "      <td>810984652412424192</td>\n",
       "      <td>2016-12-19 23:06:23</td>\n",
       "      <td>Meet Sam. She smiles 24/7 &amp;amp; secretly aspir...</td>\n",
       "      <td>https://www.gofundme.com/sams-smile,https://tw...</td>\n",
       "      <td>24.0</td>\n",
       "      <td>7</td>\n",
       "      <td>Sam</td>\n",
       "      <td>5728</td>\n",
       "      <td>1581</td>\n",
       "      <td>https://pbs.twimg.com/media/C0EyPZbXAAAceSc.jpg</td>\n",
       "      <td>golden_retriever</td>\n",
       "      <td>0.871342</td>\n",
       "      <td>True</td>\n",
       "      <td>Tibetan_mastiff</td>\n",
       "      <td>0.036708</td>\n",
       "      <td>True</td>\n",
       "      <td>Labrador_retriever</td>\n",
       "      <td>0.025823</td>\n",
       "      <td>True</td>\n",
       "      <td>NaN</td>\n",
       "      <td>3.428571</td>\n",
       "    </tr>\n",
       "    <tr>\n",
       "      <th>797</th>\n",
       "      <td>749981277374128128</td>\n",
       "      <td>2016-07-04 15:00:45</td>\n",
       "      <td>This is Atticus. He's quite simply America af....</td>\n",
       "      <td>https://twitter.com/dog_rates/status/749981277...</td>\n",
       "      <td>1776.0</td>\n",
       "      <td>10</td>\n",
       "      <td>Atticus</td>\n",
       "      <td>5422</td>\n",
       "      <td>2653</td>\n",
       "      <td>https://pbs.twimg.com/media/CmgBZ7kWcAAlzFD.jpg</td>\n",
       "      <td>bow_tie</td>\n",
       "      <td>0.533941</td>\n",
       "      <td>False</td>\n",
       "      <td>sunglasses</td>\n",
       "      <td>0.080822</td>\n",
       "      <td>False</td>\n",
       "      <td>sunglass</td>\n",
       "      <td>0.050776</td>\n",
       "      <td>False</td>\n",
       "      <td>NaN</td>\n",
       "      <td>177.600000</td>\n",
       "    </tr>\n",
       "    <tr>\n",
       "      <th>1790</th>\n",
       "      <td>670842764863651840</td>\n",
       "      <td>2015-11-29 05:52:33</td>\n",
       "      <td>After so many requests... here you go.\\n\\nGood...</td>\n",
       "      <td>https://twitter.com/dog_rates/status/670842764...</td>\n",
       "      <td>420.0</td>\n",
       "      <td>10</td>\n",
       "      <td>NaN</td>\n",
       "      <td>25085</td>\n",
       "      <td>9038</td>\n",
       "      <td>https://pbs.twimg.com/media/CU9P717W4AAOlKx.jpg</td>\n",
       "      <td>microphone</td>\n",
       "      <td>0.096063</td>\n",
       "      <td>False</td>\n",
       "      <td>accordion</td>\n",
       "      <td>0.094075</td>\n",
       "      <td>False</td>\n",
       "      <td>drumstick</td>\n",
       "      <td>0.061113</td>\n",
       "      <td>False</td>\n",
       "      <td>NaN</td>\n",
       "      <td>42.000000</td>\n",
       "    </tr>\n",
       "  </tbody>\n",
       "</table>\n",
       "</div>"
      ],
      "text/plain": [
       "                tweet_id           timestamp  \\\n",
       "411   810984652412424192 2016-12-19 23:06:23   \n",
       "797   749981277374128128 2016-07-04 15:00:45   \n",
       "1790  670842764863651840 2015-11-29 05:52:33   \n",
       "\n",
       "                                                   text  \\\n",
       "411   Meet Sam. She smiles 24/7 &amp; secretly aspir...   \n",
       "797   This is Atticus. He's quite simply America af....   \n",
       "1790  After so many requests... here you go.\\n\\nGood...   \n",
       "\n",
       "                                          expanded_urls  numerator  \\\n",
       "411   https://www.gofundme.com/sams-smile,https://tw...       24.0   \n",
       "797   https://twitter.com/dog_rates/status/749981277...     1776.0   \n",
       "1790  https://twitter.com/dog_rates/status/670842764...      420.0   \n",
       "\n",
       "      denominator     name  favorite_count  retweet_count  \\\n",
       "411             7      Sam            5728           1581   \n",
       "797            10  Atticus            5422           2653   \n",
       "1790           10      NaN           25085           9038   \n",
       "\n",
       "                                              jpg_url                p1  \\\n",
       "411   https://pbs.twimg.com/media/C0EyPZbXAAAceSc.jpg  golden_retriever   \n",
       "797   https://pbs.twimg.com/media/CmgBZ7kWcAAlzFD.jpg           bow_tie   \n",
       "1790  https://pbs.twimg.com/media/CU9P717W4AAOlKx.jpg        microphone   \n",
       "\n",
       "       p1_conf  p1_dog               p2   p2_conf  p2_dog                  p3  \\\n",
       "411   0.871342    True  Tibetan_mastiff  0.036708    True  Labrador_retriever   \n",
       "797   0.533941   False       sunglasses  0.080822   False            sunglass   \n",
       "1790  0.096063   False        accordion  0.094075   False           drumstick   \n",
       "\n",
       "       p3_conf  p3_dog dog_stage      rating  \n",
       "411   0.025823    True       NaN    3.428571  \n",
       "797   0.050776   False       NaN  177.600000  \n",
       "1790  0.061113   False       NaN   42.000000  "
      ]
     },
     "execution_count": 169,
     "metadata": {},
     "output_type": "execute_result"
    }
   ],
   "source": [
    "# There are 3 outliers with a rating over 2.  \n",
    "# Find them to see if they are inaccurate or just unique.\n",
    "twitter.loc[twitter['rating'] > 2]"
   ]
  },
  {
   "cell_type": "code",
   "execution_count": 170,
   "metadata": {},
   "outputs": [
    {
     "data": {
      "image/png": "[encoded data removed]",
      "text/plain": [
       "<matplotlib.figure.Figure at 0x7f3522984cc0>"
      ]
     },
     "metadata": {
      "needs_background": "light"
     },
     "output_type": "display_data"
    }
   ],
   "source": [
    "# Plot standardized ratings over time with ylim of 0-2\n",
    "twitter.groupby('timestamp')['rating'].mean().plot(kind='line')\n",
    "plt.ylim(0, 2)\n",
    "plt.title('Rating over Time')\n",
    "plt.xlabel('Time')\n",
    "plt.ylabel('Standardized Rating')\n",
    "plt.show;"
   ]
  },
  {
   "cell_type": "code",
   "execution_count": null,
   "metadata": {},
   "outputs": [],
   "source": []
  }
 ],
 "metadata": {
  "kernelspec": {
   "display_name": "Python 3",
   "language": "python",
   "name": "python3"
  },
  "language_info": {
   "codemirror_mode": {
    "name": "ipython",
    "version": 3
   },
   "file_extension": ".py",
   "mimetype": "text/x-python",
   "name": "python",
   "nbconvert_exporter": "python",
   "pygments_lexer": "ipython3",
   "version": "3.6.3"
  }
 },
 "nbformat": 4,
 "nbformat_minor": 2
}
